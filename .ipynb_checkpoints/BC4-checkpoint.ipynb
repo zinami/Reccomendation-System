{
 "cells": [
  {
   "cell_type": "markdown",
   "metadata": {},
   "source": [
    "# Implicit feedback recommender system\n",
    "- https://github.com/benfred/implicit\n",
    "- https://www.benfrederickson.com/matrix-factorization/\n",
    "- https://www.ethanrosenthal.com/2016/10/19/implicit-mf-part-1/\n",
    "- https://kojinoshiba.com/recsys-cold-start/"
   ]
  },
  {
   "cell_type": "code",
   "execution_count": 172,
   "metadata": {},
   "outputs": [],
   "source": [
    "import os\n",
    "import pandas as pd\n",
    "import numpy as np\n",
    "import matplotlib.pyplot as plt\n",
    "from scipy.sparse import coo_matrix\n",
    "from implicit.als import AlternatingLeastSquares\n",
    "from implicit.bpr import BayesianPersonalizedRanking\n",
    "from implicit.lmf import LogisticMatrixFactorization\n",
    "from implicit.approximate_als import (\n",
    "    AnnoyAlternatingLeastSquares,\n",
    "    FaissAlternatingLeastSquares,\n",
    "    NMSLibAlternatingLeastSquares,\n",
    ")\n",
    "from implicit.evaluation import ranking_metrics_at_k\n",
    "from tqdm import tqdm\n",
    "import plotly.graph_objects as go\n",
    "import plotly.express as px\n",
    "from lightfm import LightFM\n",
    "from lightfm.evaluation import precision_at_k\n",
    "from lightfm.evaluation import auc_score"
   ]
  },
  {
   "cell_type": "markdown",
   "metadata": {},
   "source": [
    "# Data Exploration"
   ]
  },
  {
   "cell_type": "code",
   "execution_count": 173,
   "metadata": {},
   "outputs": [],
   "source": [
    "# Read csv files\n",
    "df = pd.read_csv('retail.csv')"
   ]
  },
  {
   "cell_type": "code",
   "execution_count": 174,
   "metadata": {
    "scrolled": true
   },
   "outputs": [
    {
     "data": {
      "text/html": [
       "<div>\n",
       "<style scoped>\n",
       "    .dataframe tbody tr th:only-of-type {\n",
       "        vertical-align: middle;\n",
       "    }\n",
       "\n",
       "    .dataframe tbody tr th {\n",
       "        vertical-align: top;\n",
       "    }\n",
       "\n",
       "    .dataframe thead th {\n",
       "        text-align: right;\n",
       "    }\n",
       "</style>\n",
       "<table border=\"1\" class=\"dataframe\">\n",
       "  <thead>\n",
       "    <tr style=\"text-align: right;\">\n",
       "      <th></th>\n",
       "      <th>InvoiceNo</th>\n",
       "      <th>StockCode</th>\n",
       "      <th>Description</th>\n",
       "      <th>Quantity</th>\n",
       "      <th>InvoiceDate</th>\n",
       "      <th>UnitPrice</th>\n",
       "      <th>CustomerID</th>\n",
       "      <th>Country</th>\n",
       "    </tr>\n",
       "  </thead>\n",
       "  <tbody>\n",
       "    <tr>\n",
       "      <th>0</th>\n",
       "      <td>536365</td>\n",
       "      <td>85123A</td>\n",
       "      <td>WHITE HANGING HEART T-LIGHT HOLDER</td>\n",
       "      <td>6</td>\n",
       "      <td>12/1/2010 8:26</td>\n",
       "      <td>2.55</td>\n",
       "      <td>17850.0</td>\n",
       "      <td>United Kingdom</td>\n",
       "    </tr>\n",
       "    <tr>\n",
       "      <th>1</th>\n",
       "      <td>536365</td>\n",
       "      <td>71053</td>\n",
       "      <td>WHITE METAL LANTERN</td>\n",
       "      <td>6</td>\n",
       "      <td>12/1/2010 8:26</td>\n",
       "      <td>3.39</td>\n",
       "      <td>17850.0</td>\n",
       "      <td>United Kingdom</td>\n",
       "    </tr>\n",
       "    <tr>\n",
       "      <th>2</th>\n",
       "      <td>536365</td>\n",
       "      <td>84406B</td>\n",
       "      <td>CREAM CUPID HEARTS COAT HANGER</td>\n",
       "      <td>8</td>\n",
       "      <td>12/1/2010 8:26</td>\n",
       "      <td>2.75</td>\n",
       "      <td>17850.0</td>\n",
       "      <td>United Kingdom</td>\n",
       "    </tr>\n",
       "    <tr>\n",
       "      <th>3</th>\n",
       "      <td>536365</td>\n",
       "      <td>84029G</td>\n",
       "      <td>KNITTED UNION FLAG HOT WATER BOTTLE</td>\n",
       "      <td>6</td>\n",
       "      <td>12/1/2010 8:26</td>\n",
       "      <td>3.39</td>\n",
       "      <td>17850.0</td>\n",
       "      <td>United Kingdom</td>\n",
       "    </tr>\n",
       "    <tr>\n",
       "      <th>4</th>\n",
       "      <td>536365</td>\n",
       "      <td>84029E</td>\n",
       "      <td>RED WOOLLY HOTTIE WHITE HEART.</td>\n",
       "      <td>6</td>\n",
       "      <td>12/1/2010 8:26</td>\n",
       "      <td>3.39</td>\n",
       "      <td>17850.0</td>\n",
       "      <td>United Kingdom</td>\n",
       "    </tr>\n",
       "  </tbody>\n",
       "</table>\n",
       "</div>"
      ],
      "text/plain": [
       "  InvoiceNo StockCode                          Description  Quantity  \\\n",
       "0    536365    85123A   WHITE HANGING HEART T-LIGHT HOLDER         6   \n",
       "1    536365     71053                  WHITE METAL LANTERN         6   \n",
       "2    536365    84406B       CREAM CUPID HEARTS COAT HANGER         8   \n",
       "3    536365    84029G  KNITTED UNION FLAG HOT WATER BOTTLE         6   \n",
       "4    536365    84029E       RED WOOLLY HOTTIE WHITE HEART.         6   \n",
       "\n",
       "      InvoiceDate  UnitPrice  CustomerID         Country  \n",
       "0  12/1/2010 8:26       2.55     17850.0  United Kingdom  \n",
       "1  12/1/2010 8:26       3.39     17850.0  United Kingdom  \n",
       "2  12/1/2010 8:26       2.75     17850.0  United Kingdom  \n",
       "3  12/1/2010 8:26       3.39     17850.0  United Kingdom  \n",
       "4  12/1/2010 8:26       3.39     17850.0  United Kingdom  "
      ]
     },
     "execution_count": 174,
     "metadata": {},
     "output_type": "execute_result"
    }
   ],
   "source": [
    "df.head()"
   ]
  },
  {
   "cell_type": "code",
   "execution_count": 175,
   "metadata": {},
   "outputs": [
    {
     "data": {
      "text/plain": [
       "(541909, 8)"
      ]
     },
     "execution_count": 175,
     "metadata": {},
     "output_type": "execute_result"
    }
   ],
   "source": [
    "df.shape"
   ]
  },
  {
   "cell_type": "code",
   "execution_count": 176,
   "metadata": {},
   "outputs": [
    {
     "data": {
      "text/plain": [
       "InvoiceNo       object\n",
       "StockCode       object\n",
       "Description     object\n",
       "Quantity         int64\n",
       "InvoiceDate     object\n",
       "UnitPrice      float64\n",
       "CustomerID     float64\n",
       "Country         object\n",
       "dtype: object"
      ]
     },
     "execution_count": 176,
     "metadata": {},
     "output_type": "execute_result"
    }
   ],
   "source": [
    "df.dtypes"
   ]
  },
  {
   "cell_type": "code",
   "execution_count": 177,
   "metadata": {},
   "outputs": [
    {
     "data": {
      "text/plain": [
       "Index(['InvoiceNo', 'StockCode', 'Description', 'Quantity', 'InvoiceDate',\n",
       "       'UnitPrice', 'CustomerID', 'Country'],\n",
       "      dtype='object')"
      ]
     },
     "execution_count": 177,
     "metadata": {},
     "output_type": "execute_result"
    }
   ],
   "source": [
    "df.columns"
   ]
  },
  {
   "cell_type": "code",
   "execution_count": 178,
   "metadata": {
    "scrolled": true
   },
   "outputs": [
    {
     "data": {
      "text/html": [
       "<div>\n",
       "<style scoped>\n",
       "    .dataframe tbody tr th:only-of-type {\n",
       "        vertical-align: middle;\n",
       "    }\n",
       "\n",
       "    .dataframe tbody tr th {\n",
       "        vertical-align: top;\n",
       "    }\n",
       "\n",
       "    .dataframe thead th {\n",
       "        text-align: right;\n",
       "    }\n",
       "</style>\n",
       "<table border=\"1\" class=\"dataframe\">\n",
       "  <thead>\n",
       "    <tr style=\"text-align: right;\">\n",
       "      <th></th>\n",
       "      <th>InvoiceNo</th>\n",
       "      <th>StockCode</th>\n",
       "      <th>Description</th>\n",
       "      <th>Quantity</th>\n",
       "      <th>InvoiceDate</th>\n",
       "      <th>UnitPrice</th>\n",
       "      <th>CustomerID</th>\n",
       "      <th>Country</th>\n",
       "    </tr>\n",
       "  </thead>\n",
       "  <tbody>\n",
       "    <tr>\n",
       "      <th>0</th>\n",
       "      <td>536365</td>\n",
       "      <td>85123A</td>\n",
       "      <td>WHITE HANGING HEART T-LIGHT HOLDER</td>\n",
       "      <td>6</td>\n",
       "      <td>2010-12-01 08:26:00</td>\n",
       "      <td>2.55</td>\n",
       "      <td>17850</td>\n",
       "      <td>United Kingdom</td>\n",
       "    </tr>\n",
       "    <tr>\n",
       "      <th>1</th>\n",
       "      <td>536365</td>\n",
       "      <td>71053</td>\n",
       "      <td>WHITE METAL LANTERN</td>\n",
       "      <td>6</td>\n",
       "      <td>2010-12-01 08:26:00</td>\n",
       "      <td>3.39</td>\n",
       "      <td>17850</td>\n",
       "      <td>United Kingdom</td>\n",
       "    </tr>\n",
       "    <tr>\n",
       "      <th>2</th>\n",
       "      <td>536365</td>\n",
       "      <td>84406B</td>\n",
       "      <td>CREAM CUPID HEARTS COAT HANGER</td>\n",
       "      <td>8</td>\n",
       "      <td>2010-12-01 08:26:00</td>\n",
       "      <td>2.75</td>\n",
       "      <td>17850</td>\n",
       "      <td>United Kingdom</td>\n",
       "    </tr>\n",
       "    <tr>\n",
       "      <th>3</th>\n",
       "      <td>536365</td>\n",
       "      <td>84029G</td>\n",
       "      <td>KNITTED UNION FLAG HOT WATER BOTTLE</td>\n",
       "      <td>6</td>\n",
       "      <td>2010-12-01 08:26:00</td>\n",
       "      <td>3.39</td>\n",
       "      <td>17850</td>\n",
       "      <td>United Kingdom</td>\n",
       "    </tr>\n",
       "    <tr>\n",
       "      <th>4</th>\n",
       "      <td>536365</td>\n",
       "      <td>84029E</td>\n",
       "      <td>RED WOOLLY HOTTIE WHITE HEART.</td>\n",
       "      <td>6</td>\n",
       "      <td>2010-12-01 08:26:00</td>\n",
       "      <td>3.39</td>\n",
       "      <td>17850</td>\n",
       "      <td>United Kingdom</td>\n",
       "    </tr>\n",
       "  </tbody>\n",
       "</table>\n",
       "</div>"
      ],
      "text/plain": [
       "  InvoiceNo StockCode                          Description  Quantity  \\\n",
       "0    536365    85123A   WHITE HANGING HEART T-LIGHT HOLDER         6   \n",
       "1    536365     71053                  WHITE METAL LANTERN         6   \n",
       "2    536365    84406B       CREAM CUPID HEARTS COAT HANGER         8   \n",
       "3    536365    84029G  KNITTED UNION FLAG HOT WATER BOTTLE         6   \n",
       "4    536365    84029E       RED WOOLLY HOTTIE WHITE HEART.         6   \n",
       "\n",
       "          InvoiceDate  UnitPrice CustomerID         Country  \n",
       "0 2010-12-01 08:26:00       2.55      17850  United Kingdom  \n",
       "1 2010-12-01 08:26:00       3.39      17850  United Kingdom  \n",
       "2 2010-12-01 08:26:00       2.75      17850  United Kingdom  \n",
       "3 2010-12-01 08:26:00       3.39      17850  United Kingdom  \n",
       "4 2010-12-01 08:26:00       3.39      17850  United Kingdom  "
      ]
     },
     "execution_count": 178,
     "metadata": {},
     "output_type": "execute_result"
    }
   ],
   "source": [
    "# Get df_events and correctly encode the variables\n",
    "df['InvoiceDate'] = pd.to_datetime(df['InvoiceDate'])\n",
    "df['InvoiceDate'] = pd.to_datetime(df['InvoiceDate'],unit='ms')\n",
    "df = df.astype({'CustomerID': object, 'StockCode': object})\n",
    "df.head()"
   ]
  },
  {
   "cell_type": "code",
   "execution_count": 179,
   "metadata": {},
   "outputs": [],
   "source": [
    "df.rename(columns ={'InvoiceNo':'TransactionId', 'StockCode':'ItemId', 'InvoiceDate':'TransactionDate'},inplace=True)"
   ]
  },
  {
   "cell_type": "code",
   "execution_count": 180,
   "metadata": {
    "scrolled": false
   },
   "outputs": [
    {
     "data": {
      "text/html": [
       "<div>\n",
       "<style scoped>\n",
       "    .dataframe tbody tr th:only-of-type {\n",
       "        vertical-align: middle;\n",
       "    }\n",
       "\n",
       "    .dataframe tbody tr th {\n",
       "        vertical-align: top;\n",
       "    }\n",
       "\n",
       "    .dataframe thead th {\n",
       "        text-align: right;\n",
       "    }\n",
       "</style>\n",
       "<table border=\"1\" class=\"dataframe\">\n",
       "  <thead>\n",
       "    <tr style=\"text-align: right;\">\n",
       "      <th></th>\n",
       "      <th>TransactionId</th>\n",
       "      <th>ItemId</th>\n",
       "      <th>Description</th>\n",
       "      <th>Quantity</th>\n",
       "      <th>TransactionDate</th>\n",
       "      <th>UnitPrice</th>\n",
       "      <th>CustomerID</th>\n",
       "      <th>Country</th>\n",
       "    </tr>\n",
       "  </thead>\n",
       "  <tbody>\n",
       "    <tr>\n",
       "      <th>count</th>\n",
       "      <td>541909</td>\n",
       "      <td>541909</td>\n",
       "      <td>540455</td>\n",
       "      <td>541909.000000</td>\n",
       "      <td>541909</td>\n",
       "      <td>541909.000000</td>\n",
       "      <td>406829.0</td>\n",
       "      <td>541909</td>\n",
       "    </tr>\n",
       "    <tr>\n",
       "      <th>unique</th>\n",
       "      <td>25900</td>\n",
       "      <td>4070</td>\n",
       "      <td>4223</td>\n",
       "      <td>NaN</td>\n",
       "      <td>NaN</td>\n",
       "      <td>NaN</td>\n",
       "      <td>4372.0</td>\n",
       "      <td>38</td>\n",
       "    </tr>\n",
       "    <tr>\n",
       "      <th>top</th>\n",
       "      <td>573585</td>\n",
       "      <td>85123A</td>\n",
       "      <td>WHITE HANGING HEART T-LIGHT HOLDER</td>\n",
       "      <td>NaN</td>\n",
       "      <td>NaN</td>\n",
       "      <td>NaN</td>\n",
       "      <td>17841.0</td>\n",
       "      <td>United Kingdom</td>\n",
       "    </tr>\n",
       "    <tr>\n",
       "      <th>freq</th>\n",
       "      <td>1114</td>\n",
       "      <td>2313</td>\n",
       "      <td>2369</td>\n",
       "      <td>NaN</td>\n",
       "      <td>NaN</td>\n",
       "      <td>NaN</td>\n",
       "      <td>7983.0</td>\n",
       "      <td>495478</td>\n",
       "    </tr>\n",
       "    <tr>\n",
       "      <th>mean</th>\n",
       "      <td>NaN</td>\n",
       "      <td>NaN</td>\n",
       "      <td>NaN</td>\n",
       "      <td>9.552250</td>\n",
       "      <td>2011-07-04 13:34:57.156151552</td>\n",
       "      <td>4.611114</td>\n",
       "      <td>NaN</td>\n",
       "      <td>NaN</td>\n",
       "    </tr>\n",
       "    <tr>\n",
       "      <th>min</th>\n",
       "      <td>NaN</td>\n",
       "      <td>NaN</td>\n",
       "      <td>NaN</td>\n",
       "      <td>-80995.000000</td>\n",
       "      <td>2010-12-01 08:26:00</td>\n",
       "      <td>-11062.060000</td>\n",
       "      <td>NaN</td>\n",
       "      <td>NaN</td>\n",
       "    </tr>\n",
       "    <tr>\n",
       "      <th>25%</th>\n",
       "      <td>NaN</td>\n",
       "      <td>NaN</td>\n",
       "      <td>NaN</td>\n",
       "      <td>1.000000</td>\n",
       "      <td>2011-03-28 11:34:00</td>\n",
       "      <td>1.250000</td>\n",
       "      <td>NaN</td>\n",
       "      <td>NaN</td>\n",
       "    </tr>\n",
       "    <tr>\n",
       "      <th>50%</th>\n",
       "      <td>NaN</td>\n",
       "      <td>NaN</td>\n",
       "      <td>NaN</td>\n",
       "      <td>3.000000</td>\n",
       "      <td>2011-07-19 17:17:00</td>\n",
       "      <td>2.080000</td>\n",
       "      <td>NaN</td>\n",
       "      <td>NaN</td>\n",
       "    </tr>\n",
       "    <tr>\n",
       "      <th>75%</th>\n",
       "      <td>NaN</td>\n",
       "      <td>NaN</td>\n",
       "      <td>NaN</td>\n",
       "      <td>10.000000</td>\n",
       "      <td>2011-10-19 11:27:00</td>\n",
       "      <td>4.130000</td>\n",
       "      <td>NaN</td>\n",
       "      <td>NaN</td>\n",
       "    </tr>\n",
       "    <tr>\n",
       "      <th>max</th>\n",
       "      <td>NaN</td>\n",
       "      <td>NaN</td>\n",
       "      <td>NaN</td>\n",
       "      <td>80995.000000</td>\n",
       "      <td>2011-12-09 12:50:00</td>\n",
       "      <td>38970.000000</td>\n",
       "      <td>NaN</td>\n",
       "      <td>NaN</td>\n",
       "    </tr>\n",
       "    <tr>\n",
       "      <th>std</th>\n",
       "      <td>NaN</td>\n",
       "      <td>NaN</td>\n",
       "      <td>NaN</td>\n",
       "      <td>218.081158</td>\n",
       "      <td>NaN</td>\n",
       "      <td>96.759853</td>\n",
       "      <td>NaN</td>\n",
       "      <td>NaN</td>\n",
       "    </tr>\n",
       "  </tbody>\n",
       "</table>\n",
       "</div>"
      ],
      "text/plain": [
       "       TransactionId  ItemId                         Description  \\\n",
       "count         541909  541909                              540455   \n",
       "unique         25900    4070                                4223   \n",
       "top           573585  85123A  WHITE HANGING HEART T-LIGHT HOLDER   \n",
       "freq            1114    2313                                2369   \n",
       "mean             NaN     NaN                                 NaN   \n",
       "min              NaN     NaN                                 NaN   \n",
       "25%              NaN     NaN                                 NaN   \n",
       "50%              NaN     NaN                                 NaN   \n",
       "75%              NaN     NaN                                 NaN   \n",
       "max              NaN     NaN                                 NaN   \n",
       "std              NaN     NaN                                 NaN   \n",
       "\n",
       "             Quantity                TransactionDate      UnitPrice  \\\n",
       "count   541909.000000                         541909  541909.000000   \n",
       "unique            NaN                            NaN            NaN   \n",
       "top               NaN                            NaN            NaN   \n",
       "freq              NaN                            NaN            NaN   \n",
       "mean         9.552250  2011-07-04 13:34:57.156151552       4.611114   \n",
       "min     -80995.000000            2010-12-01 08:26:00  -11062.060000   \n",
       "25%          1.000000            2011-03-28 11:34:00       1.250000   \n",
       "50%          3.000000            2011-07-19 17:17:00       2.080000   \n",
       "75%         10.000000            2011-10-19 11:27:00       4.130000   \n",
       "max      80995.000000            2011-12-09 12:50:00   38970.000000   \n",
       "std        218.081158                            NaN      96.759853   \n",
       "\n",
       "        CustomerID         Country  \n",
       "count     406829.0          541909  \n",
       "unique      4372.0              38  \n",
       "top        17841.0  United Kingdom  \n",
       "freq        7983.0          495478  \n",
       "mean           NaN             NaN  \n",
       "min            NaN             NaN  \n",
       "25%            NaN             NaN  \n",
       "50%            NaN             NaN  \n",
       "75%            NaN             NaN  \n",
       "max            NaN             NaN  \n",
       "std            NaN             NaN  "
      ]
     },
     "execution_count": 180,
     "metadata": {},
     "output_type": "execute_result"
    }
   ],
   "source": [
    "# Describe dataset\n",
    "df.describe(include='all', datetime_is_numeric=True)"
   ]
  },
  {
   "cell_type": "code",
   "execution_count": 181,
   "metadata": {
    "scrolled": true
   },
   "outputs": [
    {
     "data": {
      "text/plain": [
       "TransactionId       0.000000\n",
       "ItemId              0.000000\n",
       "Description         0.268311\n",
       "Quantity            0.000000\n",
       "TransactionDate     0.000000\n",
       "UnitPrice           0.000000\n",
       "CustomerID         24.926694\n",
       "Country             0.000000\n",
       "dtype: float64"
      ]
     },
     "execution_count": 181,
     "metadata": {},
     "output_type": "execute_result"
    }
   ],
   "source": [
    "# Percentage of missing values \n",
    "(df.isna().sum() / df.shape[0])* 100"
   ]
  },
  {
   "cell_type": "code",
   "execution_count": 182,
   "metadata": {
    "scrolled": false
   },
   "outputs": [
    {
     "data": {
      "text/html": [
       "<div>\n",
       "<style scoped>\n",
       "    .dataframe tbody tr th:only-of-type {\n",
       "        vertical-align: middle;\n",
       "    }\n",
       "\n",
       "    .dataframe tbody tr th {\n",
       "        vertical-align: top;\n",
       "    }\n",
       "\n",
       "    .dataframe thead th {\n",
       "        text-align: right;\n",
       "    }\n",
       "</style>\n",
       "<table border=\"1\" class=\"dataframe\">\n",
       "  <thead>\n",
       "    <tr style=\"text-align: right;\">\n",
       "      <th></th>\n",
       "      <th>TransactionId</th>\n",
       "      <th>ItemId</th>\n",
       "      <th>Description</th>\n",
       "      <th>Quantity</th>\n",
       "      <th>TransactionDate</th>\n",
       "      <th>UnitPrice</th>\n",
       "      <th>CustomerID</th>\n",
       "      <th>Country</th>\n",
       "    </tr>\n",
       "  </thead>\n",
       "  <tbody>\n",
       "    <tr>\n",
       "      <th>622</th>\n",
       "      <td>536414</td>\n",
       "      <td>22139</td>\n",
       "      <td>NaN</td>\n",
       "      <td>56</td>\n",
       "      <td>2010-12-01 11:52:00</td>\n",
       "      <td>0.00</td>\n",
       "      <td>NaN</td>\n",
       "      <td>United Kingdom</td>\n",
       "    </tr>\n",
       "    <tr>\n",
       "      <th>1443</th>\n",
       "      <td>536544</td>\n",
       "      <td>21773</td>\n",
       "      <td>DECORATIVE ROSE BATHROOM BOTTLE</td>\n",
       "      <td>1</td>\n",
       "      <td>2010-12-01 14:32:00</td>\n",
       "      <td>2.51</td>\n",
       "      <td>NaN</td>\n",
       "      <td>United Kingdom</td>\n",
       "    </tr>\n",
       "    <tr>\n",
       "      <th>1444</th>\n",
       "      <td>536544</td>\n",
       "      <td>21774</td>\n",
       "      <td>DECORATIVE CATS BATHROOM BOTTLE</td>\n",
       "      <td>2</td>\n",
       "      <td>2010-12-01 14:32:00</td>\n",
       "      <td>2.51</td>\n",
       "      <td>NaN</td>\n",
       "      <td>United Kingdom</td>\n",
       "    </tr>\n",
       "    <tr>\n",
       "      <th>1445</th>\n",
       "      <td>536544</td>\n",
       "      <td>21786</td>\n",
       "      <td>POLKADOT RAIN HAT</td>\n",
       "      <td>4</td>\n",
       "      <td>2010-12-01 14:32:00</td>\n",
       "      <td>0.85</td>\n",
       "      <td>NaN</td>\n",
       "      <td>United Kingdom</td>\n",
       "    </tr>\n",
       "    <tr>\n",
       "      <th>1446</th>\n",
       "      <td>536544</td>\n",
       "      <td>21787</td>\n",
       "      <td>RAIN PONCHO RETROSPOT</td>\n",
       "      <td>2</td>\n",
       "      <td>2010-12-01 14:32:00</td>\n",
       "      <td>1.66</td>\n",
       "      <td>NaN</td>\n",
       "      <td>United Kingdom</td>\n",
       "    </tr>\n",
       "  </tbody>\n",
       "</table>\n",
       "</div>"
      ],
      "text/plain": [
       "     TransactionId ItemId                      Description  Quantity  \\\n",
       "622         536414  22139                              NaN        56   \n",
       "1443        536544  21773  DECORATIVE ROSE BATHROOM BOTTLE         1   \n",
       "1444        536544  21774  DECORATIVE CATS BATHROOM BOTTLE         2   \n",
       "1445        536544  21786               POLKADOT RAIN HAT          4   \n",
       "1446        536544  21787            RAIN PONCHO RETROSPOT         2   \n",
       "\n",
       "         TransactionDate  UnitPrice CustomerID         Country  \n",
       "622  2010-12-01 11:52:00       0.00        NaN  United Kingdom  \n",
       "1443 2010-12-01 14:32:00       2.51        NaN  United Kingdom  \n",
       "1444 2010-12-01 14:32:00       2.51        NaN  United Kingdom  \n",
       "1445 2010-12-01 14:32:00       0.85        NaN  United Kingdom  \n",
       "1446 2010-12-01 14:32:00       1.66        NaN  United Kingdom  "
      ]
     },
     "execution_count": 182,
     "metadata": {},
     "output_type": "execute_result"
    }
   ],
   "source": [
    "newCustomers_df = df[df.CustomerID.isna()]\n",
    "newCustomers_df.head()"
   ]
  },
  {
   "cell_type": "code",
   "execution_count": 183,
   "metadata": {},
   "outputs": [
    {
     "data": {
      "text/html": [
       "<div>\n",
       "<style scoped>\n",
       "    .dataframe tbody tr th:only-of-type {\n",
       "        vertical-align: middle;\n",
       "    }\n",
       "\n",
       "    .dataframe tbody tr th {\n",
       "        vertical-align: top;\n",
       "    }\n",
       "\n",
       "    .dataframe thead th {\n",
       "        text-align: right;\n",
       "    }\n",
       "</style>\n",
       "<table border=\"1\" class=\"dataframe\">\n",
       "  <thead>\n",
       "    <tr style=\"text-align: right;\">\n",
       "      <th></th>\n",
       "      <th>TransactionId</th>\n",
       "      <th>ItemId</th>\n",
       "      <th>Description</th>\n",
       "      <th>Quantity</th>\n",
       "      <th>TransactionDate</th>\n",
       "      <th>UnitPrice</th>\n",
       "      <th>CustomerID</th>\n",
       "      <th>Country</th>\n",
       "    </tr>\n",
       "  </thead>\n",
       "  <tbody>\n",
       "    <tr>\n",
       "      <th>0</th>\n",
       "      <td>536365</td>\n",
       "      <td>85123A</td>\n",
       "      <td>WHITE HANGING HEART T-LIGHT HOLDER</td>\n",
       "      <td>6</td>\n",
       "      <td>2010-12-01 08:26:00</td>\n",
       "      <td>2.55</td>\n",
       "      <td>17850</td>\n",
       "      <td>United Kingdom</td>\n",
       "    </tr>\n",
       "    <tr>\n",
       "      <th>1</th>\n",
       "      <td>536365</td>\n",
       "      <td>71053</td>\n",
       "      <td>WHITE METAL LANTERN</td>\n",
       "      <td>6</td>\n",
       "      <td>2010-12-01 08:26:00</td>\n",
       "      <td>3.39</td>\n",
       "      <td>17850</td>\n",
       "      <td>United Kingdom</td>\n",
       "    </tr>\n",
       "    <tr>\n",
       "      <th>2</th>\n",
       "      <td>536365</td>\n",
       "      <td>84406B</td>\n",
       "      <td>CREAM CUPID HEARTS COAT HANGER</td>\n",
       "      <td>8</td>\n",
       "      <td>2010-12-01 08:26:00</td>\n",
       "      <td>2.75</td>\n",
       "      <td>17850</td>\n",
       "      <td>United Kingdom</td>\n",
       "    </tr>\n",
       "    <tr>\n",
       "      <th>3</th>\n",
       "      <td>536365</td>\n",
       "      <td>84029G</td>\n",
       "      <td>KNITTED UNION FLAG HOT WATER BOTTLE</td>\n",
       "      <td>6</td>\n",
       "      <td>2010-12-01 08:26:00</td>\n",
       "      <td>3.39</td>\n",
       "      <td>17850</td>\n",
       "      <td>United Kingdom</td>\n",
       "    </tr>\n",
       "    <tr>\n",
       "      <th>4</th>\n",
       "      <td>536365</td>\n",
       "      <td>84029E</td>\n",
       "      <td>RED WOOLLY HOTTIE WHITE HEART.</td>\n",
       "      <td>6</td>\n",
       "      <td>2010-12-01 08:26:00</td>\n",
       "      <td>3.39</td>\n",
       "      <td>17850</td>\n",
       "      <td>United Kingdom</td>\n",
       "    </tr>\n",
       "    <tr>\n",
       "      <th>...</th>\n",
       "      <td>...</td>\n",
       "      <td>...</td>\n",
       "      <td>...</td>\n",
       "      <td>...</td>\n",
       "      <td>...</td>\n",
       "      <td>...</td>\n",
       "      <td>...</td>\n",
       "      <td>...</td>\n",
       "    </tr>\n",
       "    <tr>\n",
       "      <th>541904</th>\n",
       "      <td>581587</td>\n",
       "      <td>22613</td>\n",
       "      <td>PACK OF 20 SPACEBOY NAPKINS</td>\n",
       "      <td>12</td>\n",
       "      <td>2011-12-09 12:50:00</td>\n",
       "      <td>0.85</td>\n",
       "      <td>12680</td>\n",
       "      <td>France</td>\n",
       "    </tr>\n",
       "    <tr>\n",
       "      <th>541905</th>\n",
       "      <td>581587</td>\n",
       "      <td>22899</td>\n",
       "      <td>CHILDREN'S APRON DOLLY GIRL</td>\n",
       "      <td>6</td>\n",
       "      <td>2011-12-09 12:50:00</td>\n",
       "      <td>2.10</td>\n",
       "      <td>12680</td>\n",
       "      <td>France</td>\n",
       "    </tr>\n",
       "    <tr>\n",
       "      <th>541906</th>\n",
       "      <td>581587</td>\n",
       "      <td>23254</td>\n",
       "      <td>CHILDRENS CUTLERY DOLLY GIRL</td>\n",
       "      <td>4</td>\n",
       "      <td>2011-12-09 12:50:00</td>\n",
       "      <td>4.15</td>\n",
       "      <td>12680</td>\n",
       "      <td>France</td>\n",
       "    </tr>\n",
       "    <tr>\n",
       "      <th>541907</th>\n",
       "      <td>581587</td>\n",
       "      <td>23255</td>\n",
       "      <td>CHILDRENS CUTLERY CIRCUS PARADE</td>\n",
       "      <td>4</td>\n",
       "      <td>2011-12-09 12:50:00</td>\n",
       "      <td>4.15</td>\n",
       "      <td>12680</td>\n",
       "      <td>France</td>\n",
       "    </tr>\n",
       "    <tr>\n",
       "      <th>541908</th>\n",
       "      <td>581587</td>\n",
       "      <td>22138</td>\n",
       "      <td>BAKING SET 9 PIECE RETROSPOT</td>\n",
       "      <td>3</td>\n",
       "      <td>2011-12-09 12:50:00</td>\n",
       "      <td>4.95</td>\n",
       "      <td>12680</td>\n",
       "      <td>France</td>\n",
       "    </tr>\n",
       "  </tbody>\n",
       "</table>\n",
       "<p>397924 rows × 8 columns</p>\n",
       "</div>"
      ],
      "text/plain": [
       "       TransactionId  ItemId                          Description  Quantity  \\\n",
       "0             536365  85123A   WHITE HANGING HEART T-LIGHT HOLDER         6   \n",
       "1             536365   71053                  WHITE METAL LANTERN         6   \n",
       "2             536365  84406B       CREAM CUPID HEARTS COAT HANGER         8   \n",
       "3             536365  84029G  KNITTED UNION FLAG HOT WATER BOTTLE         6   \n",
       "4             536365  84029E       RED WOOLLY HOTTIE WHITE HEART.         6   \n",
       "...              ...     ...                                  ...       ...   \n",
       "541904        581587   22613          PACK OF 20 SPACEBOY NAPKINS        12   \n",
       "541905        581587   22899         CHILDREN'S APRON DOLLY GIRL          6   \n",
       "541906        581587   23254        CHILDRENS CUTLERY DOLLY GIRL          4   \n",
       "541907        581587   23255      CHILDRENS CUTLERY CIRCUS PARADE         4   \n",
       "541908        581587   22138        BAKING SET 9 PIECE RETROSPOT          3   \n",
       "\n",
       "           TransactionDate  UnitPrice CustomerID         Country  \n",
       "0      2010-12-01 08:26:00       2.55      17850  United Kingdom  \n",
       "1      2010-12-01 08:26:00       3.39      17850  United Kingdom  \n",
       "2      2010-12-01 08:26:00       2.75      17850  United Kingdom  \n",
       "3      2010-12-01 08:26:00       3.39      17850  United Kingdom  \n",
       "4      2010-12-01 08:26:00       3.39      17850  United Kingdom  \n",
       "...                    ...        ...        ...             ...  \n",
       "541904 2011-12-09 12:50:00       0.85      12680          France  \n",
       "541905 2011-12-09 12:50:00       2.10      12680          France  \n",
       "541906 2011-12-09 12:50:00       4.15      12680          France  \n",
       "541907 2011-12-09 12:50:00       4.15      12680          France  \n",
       "541908 2011-12-09 12:50:00       4.95      12680          France  \n",
       "\n",
       "[397924 rows x 8 columns]"
      ]
     },
     "execution_count": 183,
     "metadata": {},
     "output_type": "execute_result"
    }
   ],
   "source": [
    "regularCustomers_df = df[~df.CustomerID.isna() & ~df['TransactionId'].str.contains('C') ]\n",
    "regularCustomers_df"
   ]
  },
  {
   "cell_type": "code",
   "execution_count": 184,
   "metadata": {},
   "outputs": [
    {
     "data": {
      "text/html": [
       "<div>\n",
       "<style scoped>\n",
       "    .dataframe tbody tr th:only-of-type {\n",
       "        vertical-align: middle;\n",
       "    }\n",
       "\n",
       "    .dataframe tbody tr th {\n",
       "        vertical-align: top;\n",
       "    }\n",
       "\n",
       "    .dataframe thead th {\n",
       "        text-align: right;\n",
       "    }\n",
       "</style>\n",
       "<table border=\"1\" class=\"dataframe\">\n",
       "  <thead>\n",
       "    <tr style=\"text-align: right;\">\n",
       "      <th></th>\n",
       "      <th>TransactionId</th>\n",
       "      <th>ItemId</th>\n",
       "      <th>Description</th>\n",
       "      <th>Quantity</th>\n",
       "      <th>TransactionDate</th>\n",
       "      <th>UnitPrice</th>\n",
       "      <th>CustomerID</th>\n",
       "      <th>Country</th>\n",
       "    </tr>\n",
       "  </thead>\n",
       "  <tbody>\n",
       "    <tr>\n",
       "      <th>0</th>\n",
       "      <td>536365</td>\n",
       "      <td>85123A</td>\n",
       "      <td>WHITE HANGING HEART T-LIGHT HOLDER</td>\n",
       "      <td>6</td>\n",
       "      <td>2010-12-01 08:26:00</td>\n",
       "      <td>2.55</td>\n",
       "      <td>17850</td>\n",
       "      <td>United Kingdom</td>\n",
       "    </tr>\n",
       "    <tr>\n",
       "      <th>1</th>\n",
       "      <td>536365</td>\n",
       "      <td>71053</td>\n",
       "      <td>WHITE METAL LANTERN</td>\n",
       "      <td>6</td>\n",
       "      <td>2010-12-01 08:26:00</td>\n",
       "      <td>3.39</td>\n",
       "      <td>17850</td>\n",
       "      <td>United Kingdom</td>\n",
       "    </tr>\n",
       "    <tr>\n",
       "      <th>2</th>\n",
       "      <td>536365</td>\n",
       "      <td>84406B</td>\n",
       "      <td>CREAM CUPID HEARTS COAT HANGER</td>\n",
       "      <td>8</td>\n",
       "      <td>2010-12-01 08:26:00</td>\n",
       "      <td>2.75</td>\n",
       "      <td>17850</td>\n",
       "      <td>United Kingdom</td>\n",
       "    </tr>\n",
       "    <tr>\n",
       "      <th>3</th>\n",
       "      <td>536365</td>\n",
       "      <td>84029G</td>\n",
       "      <td>KNITTED UNION FLAG HOT WATER BOTTLE</td>\n",
       "      <td>6</td>\n",
       "      <td>2010-12-01 08:26:00</td>\n",
       "      <td>3.39</td>\n",
       "      <td>17850</td>\n",
       "      <td>United Kingdom</td>\n",
       "    </tr>\n",
       "    <tr>\n",
       "      <th>4</th>\n",
       "      <td>536365</td>\n",
       "      <td>84029E</td>\n",
       "      <td>RED WOOLLY HOTTIE WHITE HEART.</td>\n",
       "      <td>6</td>\n",
       "      <td>2010-12-01 08:26:00</td>\n",
       "      <td>3.39</td>\n",
       "      <td>17850</td>\n",
       "      <td>United Kingdom</td>\n",
       "    </tr>\n",
       "    <tr>\n",
       "      <th>...</th>\n",
       "      <td>...</td>\n",
       "      <td>...</td>\n",
       "      <td>...</td>\n",
       "      <td>...</td>\n",
       "      <td>...</td>\n",
       "      <td>...</td>\n",
       "      <td>...</td>\n",
       "      <td>...</td>\n",
       "    </tr>\n",
       "    <tr>\n",
       "      <th>541904</th>\n",
       "      <td>581587</td>\n",
       "      <td>22613</td>\n",
       "      <td>PACK OF 20 SPACEBOY NAPKINS</td>\n",
       "      <td>12</td>\n",
       "      <td>2011-12-09 12:50:00</td>\n",
       "      <td>0.85</td>\n",
       "      <td>12680</td>\n",
       "      <td>France</td>\n",
       "    </tr>\n",
       "    <tr>\n",
       "      <th>541905</th>\n",
       "      <td>581587</td>\n",
       "      <td>22899</td>\n",
       "      <td>CHILDREN'S APRON DOLLY GIRL</td>\n",
       "      <td>6</td>\n",
       "      <td>2011-12-09 12:50:00</td>\n",
       "      <td>2.10</td>\n",
       "      <td>12680</td>\n",
       "      <td>France</td>\n",
       "    </tr>\n",
       "    <tr>\n",
       "      <th>541906</th>\n",
       "      <td>581587</td>\n",
       "      <td>23254</td>\n",
       "      <td>CHILDRENS CUTLERY DOLLY GIRL</td>\n",
       "      <td>4</td>\n",
       "      <td>2011-12-09 12:50:00</td>\n",
       "      <td>4.15</td>\n",
       "      <td>12680</td>\n",
       "      <td>France</td>\n",
       "    </tr>\n",
       "    <tr>\n",
       "      <th>541907</th>\n",
       "      <td>581587</td>\n",
       "      <td>23255</td>\n",
       "      <td>CHILDRENS CUTLERY CIRCUS PARADE</td>\n",
       "      <td>4</td>\n",
       "      <td>2011-12-09 12:50:00</td>\n",
       "      <td>4.15</td>\n",
       "      <td>12680</td>\n",
       "      <td>France</td>\n",
       "    </tr>\n",
       "    <tr>\n",
       "      <th>541908</th>\n",
       "      <td>581587</td>\n",
       "      <td>22138</td>\n",
       "      <td>BAKING SET 9 PIECE RETROSPOT</td>\n",
       "      <td>3</td>\n",
       "      <td>2011-12-09 12:50:00</td>\n",
       "      <td>4.95</td>\n",
       "      <td>12680</td>\n",
       "      <td>France</td>\n",
       "    </tr>\n",
       "  </tbody>\n",
       "</table>\n",
       "<p>397924 rows × 8 columns</p>\n",
       "</div>"
      ],
      "text/plain": [
       "       TransactionId  ItemId                          Description  Quantity  \\\n",
       "0             536365  85123A   WHITE HANGING HEART T-LIGHT HOLDER         6   \n",
       "1             536365   71053                  WHITE METAL LANTERN         6   \n",
       "2             536365  84406B       CREAM CUPID HEARTS COAT HANGER         8   \n",
       "3             536365  84029G  KNITTED UNION FLAG HOT WATER BOTTLE         6   \n",
       "4             536365  84029E       RED WOOLLY HOTTIE WHITE HEART.         6   \n",
       "...              ...     ...                                  ...       ...   \n",
       "541904        581587   22613          PACK OF 20 SPACEBOY NAPKINS        12   \n",
       "541905        581587   22899         CHILDREN'S APRON DOLLY GIRL          6   \n",
       "541906        581587   23254        CHILDRENS CUTLERY DOLLY GIRL          4   \n",
       "541907        581587   23255      CHILDRENS CUTLERY CIRCUS PARADE         4   \n",
       "541908        581587   22138        BAKING SET 9 PIECE RETROSPOT          3   \n",
       "\n",
       "           TransactionDate  UnitPrice CustomerID         Country  \n",
       "0      2010-12-01 08:26:00       2.55      17850  United Kingdom  \n",
       "1      2010-12-01 08:26:00       3.39      17850  United Kingdom  \n",
       "2      2010-12-01 08:26:00       2.75      17850  United Kingdom  \n",
       "3      2010-12-01 08:26:00       3.39      17850  United Kingdom  \n",
       "4      2010-12-01 08:26:00       3.39      17850  United Kingdom  \n",
       "...                    ...        ...        ...             ...  \n",
       "541904 2011-12-09 12:50:00       0.85      12680          France  \n",
       "541905 2011-12-09 12:50:00       2.10      12680          France  \n",
       "541906 2011-12-09 12:50:00       4.15      12680          France  \n",
       "541907 2011-12-09 12:50:00       4.15      12680          France  \n",
       "541908 2011-12-09 12:50:00       4.95      12680          France  \n",
       "\n",
       "[397924 rows x 8 columns]"
      ]
     },
     "execution_count": 184,
     "metadata": {},
     "output_type": "execute_result"
    }
   ],
   "source": [
    "regularCustomers_df"
   ]
  },
  {
   "cell_type": "code",
   "execution_count": 185,
   "metadata": {},
   "outputs": [],
   "source": [
    "item_list = regularCustomers_df.ItemId.unique().tolist()"
   ]
  },
  {
   "cell_type": "code",
   "execution_count": 186,
   "metadata": {},
   "outputs": [],
   "source": [
    "item_dic={}\n",
    "for i in range(len(item_list)):\n",
    "    item_dic[i]=item_list[i]"
   ]
  },
  {
   "cell_type": "code",
   "execution_count": 187,
   "metadata": {
    "scrolled": true
   },
   "outputs": [],
   "source": [
    "numeric_id=pd.DataFrame.from_dict(item_dic,orient='index',columns=['ItemId']).reset_index()"
   ]
  },
  {
   "cell_type": "code",
   "execution_count": 188,
   "metadata": {},
   "outputs": [],
   "source": [
    "numeric_id.rename({'index':'numericId'}, axis=1,inplace=True)"
   ]
  },
  {
   "cell_type": "code",
   "execution_count": 189,
   "metadata": {
    "scrolled": false
   },
   "outputs": [],
   "source": [
    "regularCustomers_df= pd.merge(numeric_id, regularCustomers_df, how='left', on='ItemId')"
   ]
  },
  {
   "cell_type": "markdown",
   "metadata": {},
   "source": [
    "# Reduce Sparsity\n",
    "\n",
    "> **While implicit recommendations excel where data is sparse, it can often be helpful to make the interactions matrix a little more dense.**\n",
    "\n",
    "- To reduce sparsity we can exclude users or/and items without significant event history ([cold-start problem](https://en.wikipedia.org/wiki/Cold_start_(recommender_systems)))\n",
    "- We limited our dataset to users and items with at least 5 event occurrences."
   ]
  },
  {
   "cell_type": "code",
   "execution_count": 190,
   "metadata": {},
   "outputs": [],
   "source": [
    "def threshold_ratings(df, uid_min, iid_min, max_iter=None):\n",
    "    \"\"\"Removes users and items with less than uid_min and iid_min event occurrences, respectively.\n",
    "    Credits: https://www.ethanrosenthal.com/2016/10/19/implicit-mf-part-1/\n",
    "    \"\"\"\n",
    "    n_users = df['CustomerID'].nunique()\n",
    "    n_items = df['numericId'].nunique()\n",
    "    sparsity = float(df.shape[0]) / float(n_users * n_items) * 100\n",
    "    print('Raw dataset info \\n-----------------')\n",
    "    print('Number of users: {}'.format(n_users))\n",
    "    print('Number of items: {}'.format(n_items))\n",
    "    print('Sparsity: {:4.3f}%'.format(sparsity))\n",
    "    \n",
    "    done, i = False, 0\n",
    "    while not done:\n",
    "        # When we exclude users with freq less than uid_min we might end up with new \n",
    "        # items with freq less than iid_min, so we will have to alternate back and forth\n",
    "        starting_shape = df.shape[0]  # number of existing events\n",
    "\n",
    "        uid_counts = df.groupby('CustomerID').size()  # user id frequencies\n",
    "        df = df[~df['CustomerID'].isin(uid_counts[uid_counts < uid_min].index.tolist())]  # keep events with users with frequency >= uid_min\n",
    "\n",
    "        iid_counts = df.groupby('numericId').size()  # item id frequencies\n",
    "        df = df[~df['numericId'].isin(iid_counts[iid_counts < iid_min].index.tolist())]  # keep events with items with frequency >= iid_min\n",
    "\n",
    "        ending_shape = df.shape[0]  # number of existing events after filters\n",
    "        i += 1\n",
    "        if starting_shape == ending_shape or i == max_iter:  # convergence happens\n",
    "            done = True\n",
    "    \n",
    "    if not max_iter:\n",
    "        assert(df.groupby('CustomerID').size().min() >= uid_min)\n",
    "        assert(df.groupby('numericId').size().min() >= iid_min)\n",
    "    \n",
    "    n_users = df['CustomerID'].nunique()\n",
    "    n_items = df['numericId'].nunique()\n",
    "    sparsity = float(df.shape[0]) / float(n_users * n_items) * 100\n",
    "    print('Limited dataset info \\n-----------------')\n",
    "    print('Number of iterations until convergence: {}'.format(i))\n",
    "    print('Number of users: {}'.format(n_users))\n",
    "    print('Number of items: {}'.format(n_items))\n",
    "    print('Sparsity: {:4.3f}%'.format(sparsity))\n",
    "    return df"
   ]
  },
  {
   "cell_type": "code",
   "execution_count": 569,
   "metadata": {
    "scrolled": false
   },
   "outputs": [
    {
     "name": "stdout",
     "output_type": "stream",
     "text": [
      "Raw dataset info \n",
      "-----------------\n",
      "Number of users: 4339\n",
      "Number of items: 3665\n",
      "Sparsity: 2.502%\n",
      "Limited dataset info \n",
      "-----------------\n",
      "Number of iterations until convergence: 3\n",
      "Number of users: 3755\n",
      "Number of items: 3187\n",
      "Sparsity: 3.291%\n"
     ]
    }
   ],
   "source": [
    "# get limited dataset\n",
    "df_limited = threshold_ratings(regularCustomers_df, 10,5)"
   ]
  },
  {
   "cell_type": "markdown",
   "metadata": {},
   "source": [
    "# Train-test split\n",
    "We want to split the train and test events such that:\n",
    "- all test events occur after all train events"
   ]
  },
  {
   "cell_type": "code",
   "execution_count": 570,
   "metadata": {},
   "outputs": [
    {
     "name": "stdout",
     "output_type": "stream",
     "text": [
      "Proportion of train events: 0.79\n"
     ]
    }
   ],
   "source": [
    "# Train-test split\n",
    "start_train = df_limited['TransactionDate'].min()\n",
    "start_test = start_train + pd.to_timedelta(23, unit='w')\n",
    "end_test = start_test + pd.to_timedelta(5, unit='w')\n",
    "\n",
    "# Create new limited df\n",
    "df_limited = df_limited.loc[(df_limited['TransactionDate'] > start_train) & (df_limited['TransactionDate'] <= end_test)]\n",
    "\n",
    "# Create train_split flag\n",
    "df_limited['train_split'] = (df_limited['TransactionDate'] <= start_test).astype(int)\n",
    "print(\"Proportion of train events: {:.2f}\".format(df_limited['train_split'].mean()))"
   ]
  },
  {
   "cell_type": "code",
   "execution_count": 571,
   "metadata": {},
   "outputs": [
    {
     "data": {
      "image/png": "[encoded data removed]",
      "text/plain": [
       "<Figure size 864x432 with 1 Axes>"
      ]
     },
     "metadata": {
      "needs_background": "light"
     },
     "output_type": "display_data"
    }
   ],
   "source": [
    "# Visualize train and test set\n",
    "data = pd.DatetimeIndex(df_limited['TransactionDate']).normalize().value_counts().sort_index()\n",
    "fig = plt.figure(figsize=(12,6))\n",
    "plt.plot(data.index, data.values, linestyle=\"-\")\n",
    "plt.xticks(np.arange(data.index[0], data.index[-1], pd.to_timedelta(7, unit='d')), rotation=45)\n",
    "plt.vlines(start_test, 0, data.max(), linestyles='dashed', color='r', label='train-test split')\n",
    "plt.legend()\n",
    "plt.title('Event frequency time series - train and test set')\n",
    "plt.show()"
   ]
  },
  {
   "cell_type": "markdown",
   "metadata": {},
   "source": [
    "# Create the train and test Rating Matrices\n",
    "\n",
    "<img src=\"./images/MaskTrain.png\" alt=\"MaskTrain\" style=\"width: 600px;\"/>"
   ]
  },
  {
   "cell_type": "code",
   "execution_count": 572,
   "metadata": {
    "scrolled": false
   },
   "outputs": [
    {
     "name": "stdout",
     "output_type": "stream",
     "text": [
      "train set shape: (2859, 2526) and test set shape: (2859, 2526)\n",
      "train set percentage of zeros: 98.63601129574565 and test set percentage of zeros: 99.58991026379171\n"
     ]
    }
   ],
   "source": [
    "# the Categoricals data structure consists of a categories array and an integer array of codes which point to \n",
    "#    the real value in the categories array\n",
    "user_cat = df_limited['CustomerID'].astype('category')\n",
    "item_cat = df_limited['numericId'].astype(\"category\")\n",
    "\n",
    "# create a sparse matrix of all the item/user/counts triples for the train set and test set\n",
    "# https://docs.scipy.org/doc/scipy/reference/generated/scipy.sparse.coo_matrix.html#scipy.sparse.coo_matrix\n",
    "item_user_train = coo_matrix((df_limited['train_split'],\n",
    "                              (item_cat.cat.codes,\n",
    "                               user_cat.cat.codes))).tocsr()\n",
    "item_user_train.eliminate_zeros()  # remove zero entries\n",
    "# produce transpose of item_user_train\n",
    "user_item_train = item_user_train.T\n",
    "\n",
    "item_user_test = coo_matrix(((~df_limited['train_split'].astype(bool)).astype(int),\n",
    "                             (item_cat.cat.codes,\n",
    "                              user_cat.cat.codes))).tocsr()\n",
    "item_user_test.eliminate_zeros()  # remove zero entries\n",
    "# produce transpose of item_user_test\n",
    "user_item_test = item_user_test.T\n",
    "\n",
    "# map each item and user category to a unique numeric code\n",
    "user_map = dict(zip(user_cat, user_cat.cat.codes))\n",
    "item_map = dict(zip(item_cat, item_cat.cat.codes))\n",
    "\n",
    "def get_keys(value, dictionary):\n",
    "    \"\"\"Function to get dictionary keys with specifiec value\"\"\"\n",
    "    return list(dictionary.keys())[list(dictionary.values()).index(value)]\n",
    "\n",
    "# confirm shapes\n",
    "print(f\"train set shape: {item_user_train.shape} and test set shape: {item_user_test.shape}\")\n",
    "\n",
    "# check sparsity\n",
    "pzeros_train = 100 * (1 - item_user_train.count_nonzero() / (item_user_train.shape[0] * item_user_train.shape[1]))\n",
    "pzeros_test = 100 * (1 - item_user_test.count_nonzero() / (item_user_test.shape[0] * item_user_test.shape[1]))\n",
    "print(f\"train set percentage of zeros: {pzeros_train} and test set percentage of zeros: {pzeros_test}\")"
   ]
  },
  {
   "cell_type": "code",
   "execution_count": 573,
   "metadata": {
    "scrolled": true
   },
   "outputs": [
    {
     "data": {
      "text/plain": [
       "set()"
      ]
     },
     "execution_count": 573,
     "metadata": {},
     "output_type": "execute_result"
    }
   ],
   "source": [
    "# users with no items on the train set and not items on the test set\n",
    "zero_users_test = (np.squeeze(np.asarray(user_item_test.sum(axis=1))) == 0).nonzero()[0]\n",
    "zero_users_train = (np.squeeze(np.asarray(user_item_train.sum(axis=1))) == 0).nonzero()[0]\n",
    "set(zero_users_test).intersection(zero_users_train)"
   ]
  },
  {
   "cell_type": "code",
   "execution_count": 574,
   "metadata": {},
   "outputs": [
    {
     "data": {
      "text/html": [
       "<div>\n",
       "<style scoped>\n",
       "    .dataframe tbody tr th:only-of-type {\n",
       "        vertical-align: middle;\n",
       "    }\n",
       "\n",
       "    .dataframe tbody tr th {\n",
       "        vertical-align: top;\n",
       "    }\n",
       "\n",
       "    .dataframe thead th {\n",
       "        text-align: right;\n",
       "    }\n",
       "</style>\n",
       "<table border=\"1\" class=\"dataframe\">\n",
       "  <thead>\n",
       "    <tr style=\"text-align: right;\">\n",
       "      <th></th>\n",
       "      <th>numericId</th>\n",
       "      <th>ItemId</th>\n",
       "      <th>TransactionId</th>\n",
       "      <th>Description</th>\n",
       "      <th>Quantity</th>\n",
       "      <th>TransactionDate</th>\n",
       "      <th>UnitPrice</th>\n",
       "      <th>CustomerID</th>\n",
       "      <th>Country</th>\n",
       "      <th>train_split</th>\n",
       "    </tr>\n",
       "  </thead>\n",
       "  <tbody>\n",
       "    <tr>\n",
       "      <th>183051</th>\n",
       "      <td>772</td>\n",
       "      <td>C2</td>\n",
       "      <td>536540</td>\n",
       "      <td>CARRIAGE</td>\n",
       "      <td>1</td>\n",
       "      <td>2010-12-01 14:05:00</td>\n",
       "      <td>50.0</td>\n",
       "      <td>14911</td>\n",
       "      <td>EIRE</td>\n",
       "      <td>1</td>\n",
       "    </tr>\n",
       "    <tr>\n",
       "      <th>183052</th>\n",
       "      <td>772</td>\n",
       "      <td>C2</td>\n",
       "      <td>537368</td>\n",
       "      <td>CARRIAGE</td>\n",
       "      <td>1</td>\n",
       "      <td>2010-12-06 12:40:00</td>\n",
       "      <td>50.0</td>\n",
       "      <td>14911</td>\n",
       "      <td>EIRE</td>\n",
       "      <td>1</td>\n",
       "    </tr>\n",
       "    <tr>\n",
       "      <th>183053</th>\n",
       "      <td>772</td>\n",
       "      <td>C2</td>\n",
       "      <td>537378</td>\n",
       "      <td>CARRIAGE</td>\n",
       "      <td>1</td>\n",
       "      <td>2010-12-06 13:06:00</td>\n",
       "      <td>50.0</td>\n",
       "      <td>14911</td>\n",
       "      <td>EIRE</td>\n",
       "      <td>1</td>\n",
       "    </tr>\n",
       "    <tr>\n",
       "      <th>183057</th>\n",
       "      <td>772</td>\n",
       "      <td>C2</td>\n",
       "      <td>539473</td>\n",
       "      <td>CARRIAGE</td>\n",
       "      <td>1</td>\n",
       "      <td>2010-12-19 14:24:00</td>\n",
       "      <td>50.0</td>\n",
       "      <td>14911</td>\n",
       "      <td>EIRE</td>\n",
       "      <td>1</td>\n",
       "    </tr>\n",
       "    <tr>\n",
       "      <th>183059</th>\n",
       "      <td>772</td>\n",
       "      <td>C2</td>\n",
       "      <td>539984</td>\n",
       "      <td>CARRIAGE</td>\n",
       "      <td>1</td>\n",
       "      <td>2010-12-23 14:58:00</td>\n",
       "      <td>50.0</td>\n",
       "      <td>14911</td>\n",
       "      <td>EIRE</td>\n",
       "      <td>1</td>\n",
       "    </tr>\n",
       "    <tr>\n",
       "      <th>183060</th>\n",
       "      <td>772</td>\n",
       "      <td>C2</td>\n",
       "      <td>540547</td>\n",
       "      <td>CARRIAGE</td>\n",
       "      <td>1</td>\n",
       "      <td>2011-01-09 16:07:00</td>\n",
       "      <td>50.0</td>\n",
       "      <td>14911</td>\n",
       "      <td>EIRE</td>\n",
       "      <td>1</td>\n",
       "    </tr>\n",
       "    <tr>\n",
       "      <th>183061</th>\n",
       "      <td>772</td>\n",
       "      <td>C2</td>\n",
       "      <td>541434</td>\n",
       "      <td>CARRIAGE</td>\n",
       "      <td>1</td>\n",
       "      <td>2011-01-18 10:22:00</td>\n",
       "      <td>50.0</td>\n",
       "      <td>14911</td>\n",
       "      <td>EIRE</td>\n",
       "      <td>1</td>\n",
       "    </tr>\n",
       "    <tr>\n",
       "      <th>183062</th>\n",
       "      <td>772</td>\n",
       "      <td>C2</td>\n",
       "      <td>541979</td>\n",
       "      <td>CARRIAGE</td>\n",
       "      <td>1</td>\n",
       "      <td>2011-01-24 14:54:00</td>\n",
       "      <td>50.0</td>\n",
       "      <td>14911</td>\n",
       "      <td>EIRE</td>\n",
       "      <td>1</td>\n",
       "    </tr>\n",
       "    <tr>\n",
       "      <th>183063</th>\n",
       "      <td>772</td>\n",
       "      <td>C2</td>\n",
       "      <td>542278</td>\n",
       "      <td>CARRIAGE</td>\n",
       "      <td>1</td>\n",
       "      <td>2011-01-27 10:43:00</td>\n",
       "      <td>50.0</td>\n",
       "      <td>14911</td>\n",
       "      <td>EIRE</td>\n",
       "      <td>1</td>\n",
       "    </tr>\n",
       "    <tr>\n",
       "      <th>183064</th>\n",
       "      <td>772</td>\n",
       "      <td>C2</td>\n",
       "      <td>543178</td>\n",
       "      <td>CARRIAGE</td>\n",
       "      <td>1</td>\n",
       "      <td>2011-02-04 10:31:00</td>\n",
       "      <td>50.0</td>\n",
       "      <td>14911</td>\n",
       "      <td>EIRE</td>\n",
       "      <td>1</td>\n",
       "    </tr>\n",
       "    <tr>\n",
       "      <th>183065</th>\n",
       "      <td>772</td>\n",
       "      <td>C2</td>\n",
       "      <td>544210</td>\n",
       "      <td>CARRIAGE</td>\n",
       "      <td>1</td>\n",
       "      <td>2011-02-17 11:01:00</td>\n",
       "      <td>50.0</td>\n",
       "      <td>14911</td>\n",
       "      <td>EIRE</td>\n",
       "      <td>1</td>\n",
       "    </tr>\n",
       "    <tr>\n",
       "      <th>183066</th>\n",
       "      <td>772</td>\n",
       "      <td>C2</td>\n",
       "      <td>544390</td>\n",
       "      <td>CARRIAGE</td>\n",
       "      <td>1</td>\n",
       "      <td>2011-02-18 11:36:00</td>\n",
       "      <td>50.0</td>\n",
       "      <td>14911</td>\n",
       "      <td>EIRE</td>\n",
       "      <td>1</td>\n",
       "    </tr>\n",
       "    <tr>\n",
       "      <th>183068</th>\n",
       "      <td>772</td>\n",
       "      <td>C2</td>\n",
       "      <td>545634</td>\n",
       "      <td>CARRIAGE</td>\n",
       "      <td>1</td>\n",
       "      <td>2011-03-04 12:12:00</td>\n",
       "      <td>50.0</td>\n",
       "      <td>14911</td>\n",
       "      <td>EIRE</td>\n",
       "      <td>1</td>\n",
       "    </tr>\n",
       "    <tr>\n",
       "      <th>183072</th>\n",
       "      <td>772</td>\n",
       "      <td>C2</td>\n",
       "      <td>546509</td>\n",
       "      <td>CARRIAGE</td>\n",
       "      <td>1</td>\n",
       "      <td>2011-03-14 12:15:00</td>\n",
       "      <td>50.0</td>\n",
       "      <td>14911</td>\n",
       "      <td>EIRE</td>\n",
       "      <td>1</td>\n",
       "    </tr>\n",
       "    <tr>\n",
       "      <th>183073</th>\n",
       "      <td>772</td>\n",
       "      <td>C2</td>\n",
       "      <td>546541</td>\n",
       "      <td>CARRIAGE</td>\n",
       "      <td>1</td>\n",
       "      <td>2011-03-14 15:11:00</td>\n",
       "      <td>50.0</td>\n",
       "      <td>14911</td>\n",
       "      <td>EIRE</td>\n",
       "      <td>1</td>\n",
       "    </tr>\n",
       "    <tr>\n",
       "      <th>183075</th>\n",
       "      <td>772</td>\n",
       "      <td>C2</td>\n",
       "      <td>546861</td>\n",
       "      <td>CARRIAGE</td>\n",
       "      <td>1</td>\n",
       "      <td>2011-03-17 15:03:00</td>\n",
       "      <td>50.0</td>\n",
       "      <td>14911</td>\n",
       "      <td>EIRE</td>\n",
       "      <td>1</td>\n",
       "    </tr>\n",
       "    <tr>\n",
       "      <th>183076</th>\n",
       "      <td>772</td>\n",
       "      <td>C2</td>\n",
       "      <td>547048</td>\n",
       "      <td>CARRIAGE</td>\n",
       "      <td>1</td>\n",
       "      <td>2011-03-20 11:52:00</td>\n",
       "      <td>50.0</td>\n",
       "      <td>14911</td>\n",
       "      <td>EIRE</td>\n",
       "      <td>1</td>\n",
       "    </tr>\n",
       "    <tr>\n",
       "      <th>183078</th>\n",
       "      <td>772</td>\n",
       "      <td>C2</td>\n",
       "      <td>547702</td>\n",
       "      <td>CARRIAGE</td>\n",
       "      <td>1</td>\n",
       "      <td>2011-03-24 16:45:00</td>\n",
       "      <td>50.0</td>\n",
       "      <td>14911</td>\n",
       "      <td>EIRE</td>\n",
       "      <td>1</td>\n",
       "    </tr>\n",
       "    <tr>\n",
       "      <th>183079</th>\n",
       "      <td>772</td>\n",
       "      <td>C2</td>\n",
       "      <td>547882</td>\n",
       "      <td>CARRIAGE</td>\n",
       "      <td>1</td>\n",
       "      <td>2011-03-28 07:53:00</td>\n",
       "      <td>50.0</td>\n",
       "      <td>14911</td>\n",
       "      <td>EIRE</td>\n",
       "      <td>1</td>\n",
       "    </tr>\n",
       "    <tr>\n",
       "      <th>183081</th>\n",
       "      <td>772</td>\n",
       "      <td>C2</td>\n",
       "      <td>548449</td>\n",
       "      <td>CARRIAGE</td>\n",
       "      <td>1</td>\n",
       "      <td>2011-03-31 11:08:00</td>\n",
       "      <td>50.0</td>\n",
       "      <td>14911</td>\n",
       "      <td>EIRE</td>\n",
       "      <td>1</td>\n",
       "    </tr>\n",
       "    <tr>\n",
       "      <th>183082</th>\n",
       "      <td>772</td>\n",
       "      <td>C2</td>\n",
       "      <td>548858</td>\n",
       "      <td>CARRIAGE</td>\n",
       "      <td>1</td>\n",
       "      <td>2011-04-04 13:29:00</td>\n",
       "      <td>50.0</td>\n",
       "      <td>14911</td>\n",
       "      <td>EIRE</td>\n",
       "      <td>1</td>\n",
       "    </tr>\n",
       "    <tr>\n",
       "      <th>183083</th>\n",
       "      <td>772</td>\n",
       "      <td>C2</td>\n",
       "      <td>549242</td>\n",
       "      <td>CARRIAGE</td>\n",
       "      <td>1</td>\n",
       "      <td>2011-04-07 11:41:00</td>\n",
       "      <td>50.0</td>\n",
       "      <td>14911</td>\n",
       "      <td>EIRE</td>\n",
       "      <td>1</td>\n",
       "    </tr>\n",
       "    <tr>\n",
       "      <th>183084</th>\n",
       "      <td>772</td>\n",
       "      <td>C2</td>\n",
       "      <td>549721</td>\n",
       "      <td>CARRIAGE</td>\n",
       "      <td>1</td>\n",
       "      <td>2011-04-11 15:35:00</td>\n",
       "      <td>50.0</td>\n",
       "      <td>14911</td>\n",
       "      <td>EIRE</td>\n",
       "      <td>1</td>\n",
       "    </tr>\n",
       "    <tr>\n",
       "      <th>183089</th>\n",
       "      <td>772</td>\n",
       "      <td>C2</td>\n",
       "      <td>551187</td>\n",
       "      <td>CARRIAGE</td>\n",
       "      <td>1</td>\n",
       "      <td>2011-04-27 10:02:00</td>\n",
       "      <td>50.0</td>\n",
       "      <td>14911</td>\n",
       "      <td>EIRE</td>\n",
       "      <td>1</td>\n",
       "    </tr>\n",
       "    <tr>\n",
       "      <th>183090</th>\n",
       "      <td>772</td>\n",
       "      <td>C2</td>\n",
       "      <td>551950</td>\n",
       "      <td>CARRIAGE</td>\n",
       "      <td>1</td>\n",
       "      <td>2011-05-05 11:38:00</td>\n",
       "      <td>50.0</td>\n",
       "      <td>14911</td>\n",
       "      <td>EIRE</td>\n",
       "      <td>1</td>\n",
       "    </tr>\n",
       "  </tbody>\n",
       "</table>\n",
       "</div>"
      ],
      "text/plain": [
       "        numericId ItemId TransactionId Description  Quantity  \\\n",
       "183051        772     C2        536540    CARRIAGE         1   \n",
       "183052        772     C2        537368    CARRIAGE         1   \n",
       "183053        772     C2        537378    CARRIAGE         1   \n",
       "183057        772     C2        539473    CARRIAGE         1   \n",
       "183059        772     C2        539984    CARRIAGE         1   \n",
       "183060        772     C2        540547    CARRIAGE         1   \n",
       "183061        772     C2        541434    CARRIAGE         1   \n",
       "183062        772     C2        541979    CARRIAGE         1   \n",
       "183063        772     C2        542278    CARRIAGE         1   \n",
       "183064        772     C2        543178    CARRIAGE         1   \n",
       "183065        772     C2        544210    CARRIAGE         1   \n",
       "183066        772     C2        544390    CARRIAGE         1   \n",
       "183068        772     C2        545634    CARRIAGE         1   \n",
       "183072        772     C2        546509    CARRIAGE         1   \n",
       "183073        772     C2        546541    CARRIAGE         1   \n",
       "183075        772     C2        546861    CARRIAGE         1   \n",
       "183076        772     C2        547048    CARRIAGE         1   \n",
       "183078        772     C2        547702    CARRIAGE         1   \n",
       "183079        772     C2        547882    CARRIAGE         1   \n",
       "183081        772     C2        548449    CARRIAGE         1   \n",
       "183082        772     C2        548858    CARRIAGE         1   \n",
       "183083        772     C2        549242    CARRIAGE         1   \n",
       "183084        772     C2        549721    CARRIAGE         1   \n",
       "183089        772     C2        551187    CARRIAGE         1   \n",
       "183090        772     C2        551950    CARRIAGE         1   \n",
       "\n",
       "           TransactionDate  UnitPrice CustomerID Country  train_split  \n",
       "183051 2010-12-01 14:05:00       50.0      14911    EIRE            1  \n",
       "183052 2010-12-06 12:40:00       50.0      14911    EIRE            1  \n",
       "183053 2010-12-06 13:06:00       50.0      14911    EIRE            1  \n",
       "183057 2010-12-19 14:24:00       50.0      14911    EIRE            1  \n",
       "183059 2010-12-23 14:58:00       50.0      14911    EIRE            1  \n",
       "183060 2011-01-09 16:07:00       50.0      14911    EIRE            1  \n",
       "183061 2011-01-18 10:22:00       50.0      14911    EIRE            1  \n",
       "183062 2011-01-24 14:54:00       50.0      14911    EIRE            1  \n",
       "183063 2011-01-27 10:43:00       50.0      14911    EIRE            1  \n",
       "183064 2011-02-04 10:31:00       50.0      14911    EIRE            1  \n",
       "183065 2011-02-17 11:01:00       50.0      14911    EIRE            1  \n",
       "183066 2011-02-18 11:36:00       50.0      14911    EIRE            1  \n",
       "183068 2011-03-04 12:12:00       50.0      14911    EIRE            1  \n",
       "183072 2011-03-14 12:15:00       50.0      14911    EIRE            1  \n",
       "183073 2011-03-14 15:11:00       50.0      14911    EIRE            1  \n",
       "183075 2011-03-17 15:03:00       50.0      14911    EIRE            1  \n",
       "183076 2011-03-20 11:52:00       50.0      14911    EIRE            1  \n",
       "183078 2011-03-24 16:45:00       50.0      14911    EIRE            1  \n",
       "183079 2011-03-28 07:53:00       50.0      14911    EIRE            1  \n",
       "183081 2011-03-31 11:08:00       50.0      14911    EIRE            1  \n",
       "183082 2011-04-04 13:29:00       50.0      14911    EIRE            1  \n",
       "183083 2011-04-07 11:41:00       50.0      14911    EIRE            1  \n",
       "183084 2011-04-11 15:35:00       50.0      14911    EIRE            1  \n",
       "183089 2011-04-27 10:02:00       50.0      14911    EIRE            1  \n",
       "183090 2011-05-05 11:38:00       50.0      14911    EIRE            1  "
      ]
     },
     "execution_count": 574,
     "metadata": {},
     "output_type": "execute_result"
    }
   ],
   "source": [
    "# most frequent user, item pair in train set\n",
    "item_id, user_id = np.unravel_index(item_user_train.argmax(), item_user_train.shape)\n",
    "item_id, user_id = get_keys(item_id, item_map), get_keys(user_id, user_map)\n",
    "df_limited.loc[(df_limited['CustomerID'] == user_id) & (df_limited['numericId'] == item_id) & (df_limited['train_split'] == 1)]"
   ]
  },
  {
   "cell_type": "markdown",
   "metadata": {},
   "source": [
    "### Fit the ALS model\n"
   ]
  },
  {
   "cell_type": "code",
   "execution_count": 575,
   "metadata": {},
   "outputs": [
    {
     "data": {
      "application/vnd.jupyter.widget-view+json": {
       "model_id": "e446de71b4f349c3aed1e7b37441a966",
       "version_major": 2,
       "version_minor": 0
      },
      "text/plain": [
       "HBox(children=(HTML(value=''), FloatProgress(value=0.0, max=40.0), HTML(value='')))"
      ]
     },
     "metadata": {},
     "output_type": "display_data"
    },
    {
     "name": "stdout",
     "output_type": "stream",
     "text": [
      "\n"
     ]
    }
   ],
   "source": [
    "# initialize a model\n",
    "alpha = 1  # as we observe more evidence for positive preference, our confidence in pui = 1 increases according to alpha (rate of increase)\n",
    "als_model = AlternatingLeastSquares(factors=200, regularization=1e1, iterations=40, random_state=70)\n",
    "\n",
    "\n",
    "# train the model on a sparse matrix of item/user/confidence weights\n",
    "#os.environ['MKL_NUM_THREADS'] = '3'\n",
    "# os.environ['OPENBLAS_NUM_THREADS'] = '1'\n",
    "# about the alpha hyperparameter: https://github.com/benfred/implicit/issues/199#issuecomment-490350326\n",
    "als_model.fit((user_item_train * alpha).astype('double'))"
   ]
  },
  {
   "cell_type": "markdown",
   "metadata": {},
   "source": [
    "# ALS model methods"
   ]
  },
  {
   "cell_type": "code",
   "execution_count": 576,
   "metadata": {
    "scrolled": false
   },
   "outputs": [
    {
     "data": {
      "text/plain": [
       "[(1083, 0.28429586),\n",
       " (408, 0.047418553),\n",
       " (571, 0.043224256),\n",
       " (876, 0.03975053),\n",
       " (2301, 0.03766881),\n",
       " (1050, 0.03669347),\n",
       " (1529, 0.035344865),\n",
       " (397, 0.03247287),\n",
       " (290, 0.032337233),\n",
       " (1634, 0.031668767)]"
      ]
     },
     "execution_count": 576,
     "metadata": {},
     "output_type": "execute_result"
    }
   ],
   "source": [
    "# recommend items for a user. \n",
    "# the recommended items have the largest inner product with the user vector\n",
    "user_id = list(user_map.keys())[0]\n",
    "recommendations = als_model.recommend(user_map[user_id], user_item_train)\n",
    "list(map(lambda x: (get_keys(x[0], item_map), x[1]), recommendations))"
   ]
  },
  {
   "cell_type": "code",
   "execution_count": 577,
   "metadata": {
    "scrolled": false
   },
   "outputs": [
    {
     "data": {
      "text/plain": [
       "[(1066, 0.28429586),\n",
       " (404, 0.047418553),\n",
       " (561, 0.043224256),\n",
       " (864, 0.03975053),\n",
       " (2177, 0.03766881),\n",
       " (1033, 0.03669347),\n",
       " (1486, 0.035344865),\n",
       " (393, 0.03247287),\n",
       " (287, 0.032337233),\n",
       " (1583, 0.031668767)]"
      ]
     },
     "execution_count": 577,
     "metadata": {},
     "output_type": "execute_result"
    }
   ],
   "source": [
    "als_model.recommend(user_map[user_id], user_item_train)"
   ]
  },
  {
   "cell_type": "code",
   "execution_count": 578,
   "metadata": {},
   "outputs": [
    {
     "data": {
      "text/plain": [
       "[(0, 1.0000001),\n",
       " (1445, 0.45630032),\n",
       " (2517, 0.43166542),\n",
       " (2052, 0.3646176),\n",
       " (1110, 0.35436848),\n",
       " (1819, 0.35335463),\n",
       " (696, 0.34453413),\n",
       " (2275, 0.33873856),\n",
       " (1399, 0.32149786),\n",
       " (904, 0.31281927)]"
      ]
     },
     "execution_count": 578,
     "metadata": {},
     "output_type": "execute_result"
    }
   ],
   "source": [
    "# find related items\n",
    "# the related items have the largest inner product with the item vector\n",
    "item_id = list(item_map.keys())[0]\n",
    "related = als_model.similar_items(item_map[item_id])\n",
    "list(map(lambda x: (get_keys(x[0], item_map), x[1]), related))"
   ]
  },
  {
   "cell_type": "code",
   "execution_count": 579,
   "metadata": {
    "scrolled": false
   },
   "outputs": [
    {
     "name": "stdout",
     "output_type": "stream",
     "text": [
      "The score of the user/item pair is:  0.5443103110755281\n",
      "The top N (itemid, score) contributions for this user/item pair are:\n",
      " [(0, 0.503096083504444), (6, 0.02605955989258746), (103, 0.017155648156683453), (1, 0.016316905315330442), (53, 0.015599060184178044), (5, 0.01340719298707444), (51, 0.012555890938694058), (2, 0.00425061392110905), (201, 0.0022403233895798174), (3, 0.002138722107881255)]\n"
     ]
    }
   ],
   "source": [
    "# show the top 10 items that explain the recommended item to the user\n",
    "# It is possible to write the LVM as a linear function between preferences and past actions.\n",
    "# We can then see what are the actions associated with the highest contributions to the given recommendation.\n",
    "score, contributions, user_weights = als_model.explain(user_map[user_id], \n",
    "                                                       user_item_train,\n",
    "                                                       item_map[item_id])\n",
    "print(\"The score of the user/item pair is: \", score)\n",
    "print(\"The top N (itemid, score) contributions for this user/item pair are:\\n\", list(map(lambda x: (get_keys(x[0], item_map), x[1]), contributions)))"
   ]
  },
  {
   "cell_type": "markdown",
   "metadata": {},
   "source": [
    "##  BayesianPersonalizedRanking Model"
   ]
  },
  {
   "cell_type": "code",
   "execution_count": 580,
   "metadata": {},
   "outputs": [],
   "source": [
    "bpr_model = BayesianPersonalizedRanking(factors=101, regularization=1e1, iterations=98, random_state=70)"
   ]
  },
  {
   "cell_type": "code",
   "execution_count": 581,
   "metadata": {},
   "outputs": [
    {
     "data": {
      "application/vnd.jupyter.widget-view+json": {
       "model_id": "5a3271cace8749e2bdcf869885a9667b",
       "version_major": 2,
       "version_minor": 0
      },
      "text/plain": [
       "HBox(children=(HTML(value=''), FloatProgress(value=0.0, max=98.0), HTML(value='')))"
      ]
     },
     "metadata": {},
     "output_type": "display_data"
    },
    {
     "name": "stdout",
     "output_type": "stream",
     "text": [
      "\n"
     ]
    }
   ],
   "source": [
    "bpr_model.fit(item_user_train)"
   ]
  },
  {
   "cell_type": "markdown",
   "metadata": {},
   "source": [
    "## LogisticMatrixFactorization model"
   ]
  },
  {
   "cell_type": "code",
   "execution_count": 582,
   "metadata": {},
   "outputs": [],
   "source": [
    "lmf_model = LogisticMatrixFactorization(factors=60, regularization=1e1, iterations=80, random_state=70)"
   ]
  },
  {
   "cell_type": "code",
   "execution_count": 583,
   "metadata": {},
   "outputs": [
    {
     "name": "stderr",
     "output_type": "stream",
     "text": [
      "100%|██████████| 80/80 [00:02<00:00, 33.74it/s]\n"
     ]
    }
   ],
   "source": [
    "lmf_model.fit(item_user_train)"
   ]
  },
  {
   "cell_type": "markdown",
   "metadata": {},
   "source": [
    "## NMSLibAlternatingLeastSquares"
   ]
  },
  {
   "cell_type": "code",
   "execution_count": 584,
   "metadata": {},
   "outputs": [],
   "source": [
    "nmslals_model=NMSLibAlternatingLeastSquares(approximate_similar_items =False, approximate_recommend =False, random_state=14)"
   ]
  },
  {
   "cell_type": "code",
   "execution_count": 585,
   "metadata": {
    "scrolled": true
   },
   "outputs": [
    {
     "data": {
      "application/vnd.jupyter.widget-view+json": {
       "model_id": "746761a188314bf1984ced53e682a7e1",
       "version_major": 2,
       "version_minor": 0
      },
      "text/plain": [
       "HBox(children=(HTML(value=''), FloatProgress(value=0.0, max=15.0), HTML(value='')))"
      ]
     },
     "metadata": {},
     "output_type": "display_data"
    },
    {
     "name": "stdout",
     "output_type": "stream",
     "text": [
      "\n"
     ]
    }
   ],
   "source": [
    "nmslals_model.fit(item_user_train)"
   ]
  },
  {
   "cell_type": "markdown",
   "metadata": {},
   "source": [
    "## LightFM Model"
   ]
  },
  {
   "cell_type": "code",
   "execution_count": 707,
   "metadata": {},
   "outputs": [
    {
     "data": {
      "text/plain": [
       "<lightfm.lightfm.LightFM at 0x2b320fb69a0>"
      ]
     },
     "execution_count": 707,
     "metadata": {},
     "output_type": "execute_result"
    }
   ],
   "source": [
    "lightFm_model = LightFM(loss='warp',learning_rate=0.018,k=10,no_components=50)\n",
    "lightFm_model.fit(user_item_train, epochs=5, num_threads=16)"
   ]
  },
  {
   "cell_type": "code",
   "execution_count": 708,
   "metadata": {},
   "outputs": [
    {
     "data": {
      "text/plain": [
       "0.19947043"
      ]
     },
     "execution_count": 708,
     "metadata": {},
     "output_type": "execute_result"
    }
   ],
   "source": [
    "train_precision = precision_at_k(lightFm_model, user_item_train, k=10).mean()\n",
    "train_precision"
   ]
  },
  {
   "cell_type": "code",
   "execution_count": 709,
   "metadata": {
    "scrolled": true
   },
   "outputs": [
    {
     "data": {
      "text/plain": [
       "0.12051757"
      ]
     },
     "execution_count": 709,
     "metadata": {},
     "output_type": "execute_result"
    }
   ],
   "source": [
    "test_precision = precision_at_k(lightFm_model, user_item_test, k=10).mean()\n",
    "test_precision"
   ]
  },
  {
   "cell_type": "code",
   "execution_count": 710,
   "metadata": {},
   "outputs": [
    {
     "data": {
      "text/plain": [
       "0.8339736"
      ]
     },
     "execution_count": 710,
     "metadata": {},
     "output_type": "execute_result"
    }
   ],
   "source": [
    "train_auc = auc_score(lightFm_model, user_item_train).mean()\n",
    "train_auc"
   ]
  },
  {
   "cell_type": "code",
   "execution_count": 711,
   "metadata": {},
   "outputs": [
    {
     "data": {
      "text/plain": [
       "0.7509287"
      ]
     },
     "execution_count": 711,
     "metadata": {},
     "output_type": "execute_result"
    }
   ],
   "source": [
    "test_auc = auc_score(lightFm_model, user_item_test).mean()\n",
    "test_auc"
   ]
  },
  {
   "cell_type": "code",
   "execution_count": 712,
   "metadata": {},
   "outputs": [],
   "source": [
    "light ={'lightfm_model':[test_precision,test_auc]}"
   ]
  },
  {
   "cell_type": "code",
   "execution_count": 713,
   "metadata": {},
   "outputs": [],
   "source": [
    "lightm_df=pd.DataFrame(data=light,index=['precision','auc'])"
   ]
  },
  {
   "cell_type": "markdown",
   "metadata": {},
   "source": [
    "# Evaluation\n",
    "**Note**: We are measuring how well the model will rank the items in the test set for a user, given different items in the training set i.e. **the train and test set have the same users**. We are not making inference for new users that didn't appear in the training set. For new users in production, there is a `recalculate_user` method which can be used for generating recommendations without recalculating the whole model. Also, the `recommend(recalculate_user=True)` method allows the model to recommend for new users on the fly ([github issue](https://github.com/benfred/implicit/issues/152))."
   ]
  },
  {
   "cell_type": "code",
   "execution_count": 714,
   "metadata": {},
   "outputs": [],
   "source": [
    "# Baseline: Recommend the most popular items to every user\n",
    "class PopularRecommender():\n",
    "    \"\"\"Baseline Recommender that always suggests the most popular items to every user.\n",
    "    \"\"\"\n",
    "    def fit(self, item_users):\n",
    "        self.item_id_sort = np.argsort(np.squeeze(np.asarray(item_users.sum(axis=1).reshape(-1))))[::-1]\n",
    "    \n",
    "    def recommend(self, userid, user_items, N=10, filter_already_liked_items=None, filter_items=None, recalculate_user=None):\n",
    "        if filter_already_liked_items != None or filter_items != None or recalculate_user != None:\n",
    "            raise NotImplementedError(\"filter_already_liked_items, filter_items and recalculate_user aren't support yet\")\n",
    "        \n",
    "        return list(zip(self.item_id_sort[:N], range(1, N + 1)))"
   ]
  },
  {
   "cell_type": "code",
   "execution_count": 715,
   "metadata": {},
   "outputs": [],
   "source": [
    "# Fitting PopularRecommender model\n",
    "pop_model = PopularRecommender()\n",
    "pop_model.fit(item_user_train)"
   ]
  },
  {
   "cell_type": "code",
   "execution_count": 716,
   "metadata": {
    "scrolled": false
   },
   "outputs": [
    {
     "data": {
      "application/vnd.jupyter.widget-view+json": {
       "model_id": "b6d2bba29edb41c3bd73bd33fede1c6a",
       "version_major": 2,
       "version_minor": 0
      },
      "text/plain": [
       "HBox(children=(HTML(value=''), FloatProgress(value=0.0, max=2526.0), HTML(value='')))"
      ]
     },
     "metadata": {},
     "output_type": "display_data"
    },
    {
     "name": "stdout",
     "output_type": "stream",
     "text": [
      "\n"
     ]
    },
    {
     "data": {
      "application/vnd.jupyter.widget-view+json": {
       "model_id": "97fdf8e2153449f6ae2899a10563b96f",
       "version_major": 2,
       "version_minor": 0
      },
      "text/plain": [
       "HBox(children=(HTML(value=''), FloatProgress(value=0.0, max=2526.0), HTML(value='')))"
      ]
     },
     "metadata": {},
     "output_type": "display_data"
    },
    {
     "name": "stdout",
     "output_type": "stream",
     "text": [
      "\n"
     ]
    },
    {
     "data": {
      "application/vnd.jupyter.widget-view+json": {
       "model_id": "94da74fc1df24845b762296bf27ca716",
       "version_major": 2,
       "version_minor": 0
      },
      "text/plain": [
       "HBox(children=(HTML(value=''), FloatProgress(value=0.0, max=2526.0), HTML(value='')))"
      ]
     },
     "metadata": {},
     "output_type": "display_data"
    },
    {
     "name": "stdout",
     "output_type": "stream",
     "text": [
      "\n"
     ]
    },
    {
     "data": {
      "application/vnd.jupyter.widget-view+json": {
       "model_id": "53df8a65b7094d768c08d357bdb416ea",
       "version_major": 2,
       "version_minor": 0
      },
      "text/plain": [
       "HBox(children=(HTML(value=''), FloatProgress(value=0.0, max=2526.0), HTML(value='')))"
      ]
     },
     "metadata": {},
     "output_type": "display_data"
    },
    {
     "name": "stdout",
     "output_type": "stream",
     "text": [
      "\n"
     ]
    },
    {
     "data": {
      "application/vnd.jupyter.widget-view+json": {
       "model_id": "5d29184c3e1f411d94ac7e649d11bbad",
       "version_major": 2,
       "version_minor": 0
      },
      "text/plain": [
       "HBox(children=(HTML(value=''), FloatProgress(value=0.0, max=2526.0), HTML(value='')))"
      ]
     },
     "metadata": {},
     "output_type": "display_data"
    },
    {
     "name": "stdout",
     "output_type": "stream",
     "text": [
      "\n"
     ]
    },
    {
     "data": {
      "text/html": [
       "<div>\n",
       "<style scoped>\n",
       "    .dataframe tbody tr th:only-of-type {\n",
       "        vertical-align: middle;\n",
       "    }\n",
       "\n",
       "    .dataframe tbody tr th {\n",
       "        vertical-align: top;\n",
       "    }\n",
       "\n",
       "    .dataframe thead th {\n",
       "        text-align: right;\n",
       "    }\n",
       "</style>\n",
       "<table border=\"1\" class=\"dataframe\">\n",
       "  <thead>\n",
       "    <tr style=\"text-align: right;\">\n",
       "      <th></th>\n",
       "      <th>pop_model</th>\n",
       "      <th>als_model</th>\n",
       "      <th>bpr_model</th>\n",
       "      <th>lmf_model</th>\n",
       "      <th>nmslals_model</th>\n",
       "    </tr>\n",
       "  </thead>\n",
       "  <tbody>\n",
       "    <tr>\n",
       "      <th>precision</th>\n",
       "      <td>0.113331</td>\n",
       "      <td>0.007468</td>\n",
       "      <td>0.017762</td>\n",
       "      <td>0.074276</td>\n",
       "      <td>0.062468</td>\n",
       "    </tr>\n",
       "    <tr>\n",
       "      <th>map</th>\n",
       "      <td>0.053729</td>\n",
       "      <td>0.002146</td>\n",
       "      <td>0.004663</td>\n",
       "      <td>0.031277</td>\n",
       "      <td>0.026585</td>\n",
       "    </tr>\n",
       "    <tr>\n",
       "      <th>ndcg</th>\n",
       "      <td>0.120959</td>\n",
       "      <td>0.007007</td>\n",
       "      <td>0.015705</td>\n",
       "      <td>0.076623</td>\n",
       "      <td>0.063200</td>\n",
       "    </tr>\n",
       "    <tr>\n",
       "      <th>auc</th>\n",
       "      <td>0.522809</td>\n",
       "      <td>0.499520</td>\n",
       "      <td>0.501493</td>\n",
       "      <td>0.513218</td>\n",
       "      <td>0.511711</td>\n",
       "    </tr>\n",
       "  </tbody>\n",
       "</table>\n",
       "</div>"
      ],
      "text/plain": [
       "           pop_model  als_model  bpr_model  lmf_model  nmslals_model\n",
       "precision   0.113331   0.007468   0.017762   0.074276       0.062468\n",
       "map         0.053729   0.002146   0.004663   0.031277       0.026585\n",
       "ndcg        0.120959   0.007007   0.015705   0.076623       0.063200\n",
       "auc         0.522809   0.499520   0.501493   0.513218       0.511711"
      ]
     },
     "execution_count": 716,
     "metadata": {},
     "output_type": "execute_result"
    }
   ],
   "source": [
    "# Evaluate models. \n",
    "# Precision at K, Mean Average Precision at K, Normalized Discounted Cumulative Gain at K, AUC at K\n",
    "eval_models = {'pop_model': pop_model, \n",
    "               'als_model': als_model,\n",
    "               'bpr_model':bpr_model,\n",
    "                'lmf_model':lmf_model,\n",
    "               'nmslals_model':nmslals_model\n",
    "              }\n",
    "eval_table = {}\n",
    "for k, v in eval_models.items():\n",
    "    eval_table[k] = ranking_metrics_at_k(v, user_item_train, user_item_test, K=10, show_progress=True, num_threads=0)\n",
    "eval_table = pd.DataFrame(eval_table)\n",
    "eval_table"
   ]
  },
  {
   "cell_type": "code",
   "execution_count": 717,
   "metadata": {},
   "outputs": [],
   "source": [
    "regular_eval = eval_table.drop(['ndcg','map'])"
   ]
  },
  {
   "cell_type": "code",
   "execution_count": 718,
   "metadata": {},
   "outputs": [],
   "source": [
    "regular_eval=pd.concat([regular_eval,lightm_df],axis=1)"
   ]
  },
  {
   "cell_type": "code",
   "execution_count": 719,
   "metadata": {},
   "outputs": [
    {
     "data": {
      "text/html": [
       "<div>\n",
       "<style scoped>\n",
       "    .dataframe tbody tr th:only-of-type {\n",
       "        vertical-align: middle;\n",
       "    }\n",
       "\n",
       "    .dataframe tbody tr th {\n",
       "        vertical-align: top;\n",
       "    }\n",
       "\n",
       "    .dataframe thead th {\n",
       "        text-align: right;\n",
       "    }\n",
       "</style>\n",
       "<table border=\"1\" class=\"dataframe\">\n",
       "  <thead>\n",
       "    <tr style=\"text-align: right;\">\n",
       "      <th></th>\n",
       "      <th>pop_model</th>\n",
       "      <th>als_model</th>\n",
       "      <th>bpr_model</th>\n",
       "      <th>lmf_model</th>\n",
       "      <th>nmslals_model</th>\n",
       "      <th>lightfm_model</th>\n",
       "    </tr>\n",
       "  </thead>\n",
       "  <tbody>\n",
       "    <tr>\n",
       "      <th>precision</th>\n",
       "      <td>0.113331</td>\n",
       "      <td>0.007468</td>\n",
       "      <td>0.017762</td>\n",
       "      <td>0.074276</td>\n",
       "      <td>0.062468</td>\n",
       "      <td>0.120518</td>\n",
       "    </tr>\n",
       "    <tr>\n",
       "      <th>auc</th>\n",
       "      <td>0.522809</td>\n",
       "      <td>0.499520</td>\n",
       "      <td>0.501493</td>\n",
       "      <td>0.513218</td>\n",
       "      <td>0.511711</td>\n",
       "      <td>0.750929</td>\n",
       "    </tr>\n",
       "  </tbody>\n",
       "</table>\n",
       "</div>"
      ],
      "text/plain": [
       "           pop_model  als_model  bpr_model  lmf_model  nmslals_model  \\\n",
       "precision   0.113331   0.007468   0.017762   0.074276       0.062468   \n",
       "auc         0.522809   0.499520   0.501493   0.513218       0.511711   \n",
       "\n",
       "           lightfm_model  \n",
       "precision       0.120518  \n",
       "auc             0.750929  "
      ]
     },
     "execution_count": 719,
     "metadata": {},
     "output_type": "execute_result"
    }
   ],
   "source": [
    "regular_eval"
   ]
  },
  {
   "cell_type": "markdown",
   "metadata": {},
   "source": [
    "## New Customers Cold Start Problem"
   ]
  },
  {
   "cell_type": "code",
   "execution_count": 720,
   "metadata": {},
   "outputs": [
    {
     "name": "stderr",
     "output_type": "stream",
     "text": [
      "C:\\Users\\bruno\\Anaconda3\\lib\\site-packages\\pandas\\core\\frame.py:4163: SettingWithCopyWarning: \n",
      "A value is trying to be set on a copy of a slice from a DataFrame\n",
      "\n",
      "See the caveats in the documentation: https://pandas.pydata.org/pandas-docs/stable/user_guide/indexing.html#returning-a-view-versus-a-copy\n",
      "  return super().drop(\n"
     ]
    }
   ],
   "source": [
    "newCustomers_df.drop(['CustomerID'], inplace=True,axis=1)"
   ]
  },
  {
   "cell_type": "code",
   "execution_count": 721,
   "metadata": {},
   "outputs": [],
   "source": [
    "newCustomers_df.reset_index(inplace=True)"
   ]
  },
  {
   "cell_type": "code",
   "execution_count": 722,
   "metadata": {},
   "outputs": [
    {
     "name": "stderr",
     "output_type": "stream",
     "text": [
      "C:\\Users\\bruno\\Anaconda3\\lib\\site-packages\\pandas\\core\\frame.py:4296: SettingWithCopyWarning: \n",
      "A value is trying to be set on a copy of a slice from a DataFrame\n",
      "\n",
      "See the caveats in the documentation: https://pandas.pydata.org/pandas-docs/stable/user_guide/indexing.html#returning-a-view-versus-a-copy\n",
      "  return super().rename(\n"
     ]
    }
   ],
   "source": [
    "newCustomers_df.rename({'index':'CustomerID'},inplace=True,axis=1)"
   ]
  },
  {
   "cell_type": "code",
   "execution_count": 723,
   "metadata": {},
   "outputs": [
    {
     "data": {
      "text/html": [
       "<div>\n",
       "<style scoped>\n",
       "    .dataframe tbody tr th:only-of-type {\n",
       "        vertical-align: middle;\n",
       "    }\n",
       "\n",
       "    .dataframe tbody tr th {\n",
       "        vertical-align: top;\n",
       "    }\n",
       "\n",
       "    .dataframe thead th {\n",
       "        text-align: right;\n",
       "    }\n",
       "</style>\n",
       "<table border=\"1\" class=\"dataframe\">\n",
       "  <thead>\n",
       "    <tr style=\"text-align: right;\">\n",
       "      <th></th>\n",
       "      <th>CustomerID</th>\n",
       "      <th>TransactionId</th>\n",
       "      <th>ItemId</th>\n",
       "      <th>Description</th>\n",
       "      <th>Quantity</th>\n",
       "      <th>TransactionDate</th>\n",
       "      <th>UnitPrice</th>\n",
       "      <th>Country</th>\n",
       "    </tr>\n",
       "  </thead>\n",
       "  <tbody>\n",
       "    <tr>\n",
       "      <th>0</th>\n",
       "      <td>622</td>\n",
       "      <td>536414</td>\n",
       "      <td>22139</td>\n",
       "      <td>NaN</td>\n",
       "      <td>56</td>\n",
       "      <td>2010-12-01 11:52:00</td>\n",
       "      <td>0.00</td>\n",
       "      <td>United Kingdom</td>\n",
       "    </tr>\n",
       "    <tr>\n",
       "      <th>1</th>\n",
       "      <td>1443</td>\n",
       "      <td>536544</td>\n",
       "      <td>21773</td>\n",
       "      <td>DECORATIVE ROSE BATHROOM BOTTLE</td>\n",
       "      <td>1</td>\n",
       "      <td>2010-12-01 14:32:00</td>\n",
       "      <td>2.51</td>\n",
       "      <td>United Kingdom</td>\n",
       "    </tr>\n",
       "    <tr>\n",
       "      <th>2</th>\n",
       "      <td>1444</td>\n",
       "      <td>536544</td>\n",
       "      <td>21774</td>\n",
       "      <td>DECORATIVE CATS BATHROOM BOTTLE</td>\n",
       "      <td>2</td>\n",
       "      <td>2010-12-01 14:32:00</td>\n",
       "      <td>2.51</td>\n",
       "      <td>United Kingdom</td>\n",
       "    </tr>\n",
       "    <tr>\n",
       "      <th>3</th>\n",
       "      <td>1445</td>\n",
       "      <td>536544</td>\n",
       "      <td>21786</td>\n",
       "      <td>POLKADOT RAIN HAT</td>\n",
       "      <td>4</td>\n",
       "      <td>2010-12-01 14:32:00</td>\n",
       "      <td>0.85</td>\n",
       "      <td>United Kingdom</td>\n",
       "    </tr>\n",
       "    <tr>\n",
       "      <th>4</th>\n",
       "      <td>1446</td>\n",
       "      <td>536544</td>\n",
       "      <td>21787</td>\n",
       "      <td>RAIN PONCHO RETROSPOT</td>\n",
       "      <td>2</td>\n",
       "      <td>2010-12-01 14:32:00</td>\n",
       "      <td>1.66</td>\n",
       "      <td>United Kingdom</td>\n",
       "    </tr>\n",
       "    <tr>\n",
       "      <th>...</th>\n",
       "      <td>...</td>\n",
       "      <td>...</td>\n",
       "      <td>...</td>\n",
       "      <td>...</td>\n",
       "      <td>...</td>\n",
       "      <td>...</td>\n",
       "      <td>...</td>\n",
       "      <td>...</td>\n",
       "    </tr>\n",
       "    <tr>\n",
       "      <th>135075</th>\n",
       "      <td>541536</td>\n",
       "      <td>581498</td>\n",
       "      <td>85099B</td>\n",
       "      <td>JUMBO BAG RED RETROSPOT</td>\n",
       "      <td>5</td>\n",
       "      <td>2011-12-09 10:26:00</td>\n",
       "      <td>4.13</td>\n",
       "      <td>United Kingdom</td>\n",
       "    </tr>\n",
       "    <tr>\n",
       "      <th>135076</th>\n",
       "      <td>541537</td>\n",
       "      <td>581498</td>\n",
       "      <td>85099C</td>\n",
       "      <td>JUMBO  BAG BAROQUE BLACK WHITE</td>\n",
       "      <td>4</td>\n",
       "      <td>2011-12-09 10:26:00</td>\n",
       "      <td>4.13</td>\n",
       "      <td>United Kingdom</td>\n",
       "    </tr>\n",
       "    <tr>\n",
       "      <th>135077</th>\n",
       "      <td>541538</td>\n",
       "      <td>581498</td>\n",
       "      <td>85150</td>\n",
       "      <td>LADIES &amp; GENTLEMEN METAL SIGN</td>\n",
       "      <td>1</td>\n",
       "      <td>2011-12-09 10:26:00</td>\n",
       "      <td>4.96</td>\n",
       "      <td>United Kingdom</td>\n",
       "    </tr>\n",
       "    <tr>\n",
       "      <th>135078</th>\n",
       "      <td>541539</td>\n",
       "      <td>581498</td>\n",
       "      <td>85174</td>\n",
       "      <td>S/4 CACTI CANDLES</td>\n",
       "      <td>1</td>\n",
       "      <td>2011-12-09 10:26:00</td>\n",
       "      <td>10.79</td>\n",
       "      <td>United Kingdom</td>\n",
       "    </tr>\n",
       "    <tr>\n",
       "      <th>135079</th>\n",
       "      <td>541540</td>\n",
       "      <td>581498</td>\n",
       "      <td>DOT</td>\n",
       "      <td>DOTCOM POSTAGE</td>\n",
       "      <td>1</td>\n",
       "      <td>2011-12-09 10:26:00</td>\n",
       "      <td>1714.17</td>\n",
       "      <td>United Kingdom</td>\n",
       "    </tr>\n",
       "  </tbody>\n",
       "</table>\n",
       "<p>135080 rows × 8 columns</p>\n",
       "</div>"
      ],
      "text/plain": [
       "        CustomerID TransactionId  ItemId                      Description  \\\n",
       "0              622        536414   22139                              NaN   \n",
       "1             1443        536544   21773  DECORATIVE ROSE BATHROOM BOTTLE   \n",
       "2             1444        536544   21774  DECORATIVE CATS BATHROOM BOTTLE   \n",
       "3             1445        536544   21786               POLKADOT RAIN HAT    \n",
       "4             1446        536544   21787            RAIN PONCHO RETROSPOT   \n",
       "...            ...           ...     ...                              ...   \n",
       "135075      541536        581498  85099B          JUMBO BAG RED RETROSPOT   \n",
       "135076      541537        581498  85099C   JUMBO  BAG BAROQUE BLACK WHITE   \n",
       "135077      541538        581498   85150    LADIES & GENTLEMEN METAL SIGN   \n",
       "135078      541539        581498   85174                S/4 CACTI CANDLES   \n",
       "135079      541540        581498     DOT                   DOTCOM POSTAGE   \n",
       "\n",
       "        Quantity     TransactionDate  UnitPrice         Country  \n",
       "0             56 2010-12-01 11:52:00       0.00  United Kingdom  \n",
       "1              1 2010-12-01 14:32:00       2.51  United Kingdom  \n",
       "2              2 2010-12-01 14:32:00       2.51  United Kingdom  \n",
       "3              4 2010-12-01 14:32:00       0.85  United Kingdom  \n",
       "4              2 2010-12-01 14:32:00       1.66  United Kingdom  \n",
       "...          ...                 ...        ...             ...  \n",
       "135075         5 2011-12-09 10:26:00       4.13  United Kingdom  \n",
       "135076         4 2011-12-09 10:26:00       4.13  United Kingdom  \n",
       "135077         1 2011-12-09 10:26:00       4.96  United Kingdom  \n",
       "135078         1 2011-12-09 10:26:00      10.79  United Kingdom  \n",
       "135079         1 2011-12-09 10:26:00    1714.17  United Kingdom  \n",
       "\n",
       "[135080 rows x 8 columns]"
      ]
     },
     "execution_count": 723,
     "metadata": {},
     "output_type": "execute_result"
    }
   ],
   "source": [
    "newCustomers_df"
   ]
  },
  {
   "cell_type": "markdown",
   "metadata": {},
   "source": [
    "# Train-test split"
   ]
  },
  {
   "cell_type": "code",
   "execution_count": 724,
   "metadata": {},
   "outputs": [
    {
     "name": "stdout",
     "output_type": "stream",
     "text": [
      "Proportion of train events: 0.79\n"
     ]
    },
    {
     "name": "stderr",
     "output_type": "stream",
     "text": [
      "<ipython-input-724-62572a0541e5>:10: SettingWithCopyWarning: \n",
      "A value is trying to be set on a copy of a slice from a DataFrame.\n",
      "Try using .loc[row_indexer,col_indexer] = value instead\n",
      "\n",
      "See the caveats in the documentation: https://pandas.pydata.org/pandas-docs/stable/user_guide/indexing.html#returning-a-view-versus-a-copy\n",
      "  newCustomers_df['train_split'] = (newCustomers_df['TransactionDate'] <= start_test).astype(int)\n"
     ]
    }
   ],
   "source": [
    "# Train-test split\n",
    "start_train = newCustomers_df['TransactionDate'].min()\n",
    "start_test = start_train + pd.to_timedelta(10, unit='w')\n",
    "end_test = start_test + pd.to_timedelta(5, unit='w')\n",
    "\n",
    "# Create new limited df\n",
    "newCustomers_df = newCustomers_df.loc[(newCustomers_df['TransactionDate'] > start_train) & (newCustomers_df['TransactionDate'] <= end_test)]\n",
    "\n",
    "# Create train_split flag\n",
    "newCustomers_df['train_split'] = (newCustomers_df['TransactionDate'] <= start_test).astype(int)\n",
    "print(\"Proportion of train events: {:.2f}\".format(newCustomers_df['train_split'].mean()))"
   ]
  },
  {
   "cell_type": "code",
   "execution_count": 725,
   "metadata": {},
   "outputs": [
    {
     "data": {
      "image/png": "[encoded data removed]",
      "text/plain": [
       "<Figure size 864x432 with 1 Axes>"
      ]
     },
     "metadata": {
      "needs_background": "light"
     },
     "output_type": "display_data"
    }
   ],
   "source": [
    "# Visualize train and test set\n",
    "data = pd.DatetimeIndex(newCustomers_df['TransactionDate']).normalize().value_counts().sort_index()\n",
    "fig = plt.figure(figsize=(12,6))\n",
    "plt.plot(data.index, data.values, linestyle=\"-\")\n",
    "plt.xticks(np.arange(data.index[0], data.index[-1], pd.to_timedelta(7, unit='d')), rotation=45)\n",
    "plt.vlines(start_test, 0, data.max(), linestyles='dashed', color='r', label='train-test split')\n",
    "plt.legend()\n",
    "plt.title('Event frequency time series - train and test set')\n",
    "plt.show()"
   ]
  },
  {
   "cell_type": "code",
   "execution_count": 729,
   "metadata": {
    "scrolled": true
   },
   "outputs": [
    {
     "data": {
      "text/html": [
       "<div>\n",
       "<style scoped>\n",
       "    .dataframe tbody tr th:only-of-type {\n",
       "        vertical-align: middle;\n",
       "    }\n",
       "\n",
       "    .dataframe tbody tr th {\n",
       "        vertical-align: top;\n",
       "    }\n",
       "\n",
       "    .dataframe thead th {\n",
       "        text-align: right;\n",
       "    }\n",
       "</style>\n",
       "<table border=\"1\" class=\"dataframe\">\n",
       "  <thead>\n",
       "    <tr style=\"text-align: right;\">\n",
       "      <th></th>\n",
       "      <th>CustomerID</th>\n",
       "      <th>TransactionId</th>\n",
       "      <th>ItemId</th>\n",
       "      <th>Description</th>\n",
       "      <th>Quantity</th>\n",
       "      <th>TransactionDate</th>\n",
       "      <th>UnitPrice</th>\n",
       "      <th>Country</th>\n",
       "      <th>train_split</th>\n",
       "    </tr>\n",
       "  </thead>\n",
       "  <tbody>\n",
       "    <tr>\n",
       "      <th>1</th>\n",
       "      <td>1443</td>\n",
       "      <td>536544</td>\n",
       "      <td>21773</td>\n",
       "      <td>DECORATIVE ROSE BATHROOM BOTTLE</td>\n",
       "      <td>1</td>\n",
       "      <td>2010-12-01 14:32:00</td>\n",
       "      <td>2.51</td>\n",
       "      <td>United Kingdom</td>\n",
       "      <td>1</td>\n",
       "    </tr>\n",
       "    <tr>\n",
       "      <th>2</th>\n",
       "      <td>1444</td>\n",
       "      <td>536544</td>\n",
       "      <td>21774</td>\n",
       "      <td>DECORATIVE CATS BATHROOM BOTTLE</td>\n",
       "      <td>2</td>\n",
       "      <td>2010-12-01 14:32:00</td>\n",
       "      <td>2.51</td>\n",
       "      <td>United Kingdom</td>\n",
       "      <td>1</td>\n",
       "    </tr>\n",
       "    <tr>\n",
       "      <th>3</th>\n",
       "      <td>1445</td>\n",
       "      <td>536544</td>\n",
       "      <td>21786</td>\n",
       "      <td>POLKADOT RAIN HAT</td>\n",
       "      <td>4</td>\n",
       "      <td>2010-12-01 14:32:00</td>\n",
       "      <td>0.85</td>\n",
       "      <td>United Kingdom</td>\n",
       "      <td>1</td>\n",
       "    </tr>\n",
       "    <tr>\n",
       "      <th>4</th>\n",
       "      <td>1446</td>\n",
       "      <td>536544</td>\n",
       "      <td>21787</td>\n",
       "      <td>RAIN PONCHO RETROSPOT</td>\n",
       "      <td>2</td>\n",
       "      <td>2010-12-01 14:32:00</td>\n",
       "      <td>1.66</td>\n",
       "      <td>United Kingdom</td>\n",
       "      <td>1</td>\n",
       "    </tr>\n",
       "    <tr>\n",
       "      <th>5</th>\n",
       "      <td>1447</td>\n",
       "      <td>536544</td>\n",
       "      <td>21790</td>\n",
       "      <td>VINTAGE SNAP CARDS</td>\n",
       "      <td>9</td>\n",
       "      <td>2010-12-01 14:32:00</td>\n",
       "      <td>1.66</td>\n",
       "      <td>United Kingdom</td>\n",
       "      <td>1</td>\n",
       "    </tr>\n",
       "    <tr>\n",
       "      <th>...</th>\n",
       "      <td>...</td>\n",
       "      <td>...</td>\n",
       "      <td>...</td>\n",
       "      <td>...</td>\n",
       "      <td>...</td>\n",
       "      <td>...</td>\n",
       "      <td>...</td>\n",
       "      <td>...</td>\n",
       "      <td>...</td>\n",
       "    </tr>\n",
       "    <tr>\n",
       "      <th>39503</th>\n",
       "      <td>120588</td>\n",
       "      <td>546663</td>\n",
       "      <td>21288</td>\n",
       "      <td>STRIPEY CHOCOLATE NESTING BOXES</td>\n",
       "      <td>1</td>\n",
       "      <td>2011-03-15 14:36:00</td>\n",
       "      <td>2.95</td>\n",
       "      <td>United Kingdom</td>\n",
       "      <td>0</td>\n",
       "    </tr>\n",
       "    <tr>\n",
       "      <th>39504</th>\n",
       "      <td>120589</td>\n",
       "      <td>546663</td>\n",
       "      <td>90022</td>\n",
       "      <td>EDWARDIAN DROP EARRINGS JET BLACK</td>\n",
       "      <td>1</td>\n",
       "      <td>2011-03-15 14:36:00</td>\n",
       "      <td>3.75</td>\n",
       "      <td>United Kingdom</td>\n",
       "      <td>0</td>\n",
       "    </tr>\n",
       "    <tr>\n",
       "      <th>39505</th>\n",
       "      <td>120605</td>\n",
       "      <td>546666</td>\n",
       "      <td>79321</td>\n",
       "      <td>NaN</td>\n",
       "      <td>72</td>\n",
       "      <td>2011-03-15 15:14:00</td>\n",
       "      <td>0.00</td>\n",
       "      <td>United Kingdom</td>\n",
       "      <td>0</td>\n",
       "    </tr>\n",
       "    <tr>\n",
       "      <th>39506</th>\n",
       "      <td>120762</td>\n",
       "      <td>546672</td>\n",
       "      <td>85206A</td>\n",
       "      <td>NaN</td>\n",
       "      <td>-77</td>\n",
       "      <td>2011-03-15 15:47:00</td>\n",
       "      <td>0.00</td>\n",
       "      <td>United Kingdom</td>\n",
       "      <td>0</td>\n",
       "    </tr>\n",
       "    <tr>\n",
       "      <th>39507</th>\n",
       "      <td>120763</td>\n",
       "      <td>546673</td>\n",
       "      <td>23348</td>\n",
       "      <td>NaN</td>\n",
       "      <td>48</td>\n",
       "      <td>2011-03-15 16:11:00</td>\n",
       "      <td>0.00</td>\n",
       "      <td>United Kingdom</td>\n",
       "      <td>0</td>\n",
       "    </tr>\n",
       "  </tbody>\n",
       "</table>\n",
       "<p>39507 rows × 9 columns</p>\n",
       "</div>"
      ],
      "text/plain": [
       "       CustomerID TransactionId  ItemId                        Description  \\\n",
       "1            1443        536544   21773    DECORATIVE ROSE BATHROOM BOTTLE   \n",
       "2            1444        536544   21774    DECORATIVE CATS BATHROOM BOTTLE   \n",
       "3            1445        536544   21786                 POLKADOT RAIN HAT    \n",
       "4            1446        536544   21787              RAIN PONCHO RETROSPOT   \n",
       "5            1447        536544   21790                 VINTAGE SNAP CARDS   \n",
       "...           ...           ...     ...                                ...   \n",
       "39503      120588        546663   21288    STRIPEY CHOCOLATE NESTING BOXES   \n",
       "39504      120589        546663   90022  EDWARDIAN DROP EARRINGS JET BLACK   \n",
       "39505      120605        546666   79321                                NaN   \n",
       "39506      120762        546672  85206A                                NaN   \n",
       "39507      120763        546673   23348                                NaN   \n",
       "\n",
       "       Quantity     TransactionDate  UnitPrice         Country  train_split  \n",
       "1             1 2010-12-01 14:32:00       2.51  United Kingdom            1  \n",
       "2             2 2010-12-01 14:32:00       2.51  United Kingdom            1  \n",
       "3             4 2010-12-01 14:32:00       0.85  United Kingdom            1  \n",
       "4             2 2010-12-01 14:32:00       1.66  United Kingdom            1  \n",
       "5             9 2010-12-01 14:32:00       1.66  United Kingdom            1  \n",
       "...         ...                 ...        ...             ...          ...  \n",
       "39503         1 2011-03-15 14:36:00       2.95  United Kingdom            0  \n",
       "39504         1 2011-03-15 14:36:00       3.75  United Kingdom            0  \n",
       "39505        72 2011-03-15 15:14:00       0.00  United Kingdom            0  \n",
       "39506       -77 2011-03-15 15:47:00       0.00  United Kingdom            0  \n",
       "39507        48 2011-03-15 16:11:00       0.00  United Kingdom            0  \n",
       "\n",
       "[39507 rows x 9 columns]"
      ]
     },
     "execution_count": 729,
     "metadata": {},
     "output_type": "execute_result"
    }
   ],
   "source": [
    "newCustomers_df"
   ]
  },
  {
   "cell_type": "markdown",
   "metadata": {},
   "source": [
    "# Create the train and test Rating Matrices\n"
   ]
  },
  {
   "cell_type": "code",
   "execution_count": 730,
   "metadata": {},
   "outputs": [
    {
     "name": "stdout",
     "output_type": "stream",
     "text": [
      "train set shape: (2724, 39507) and test set shape: (2724, 39507)\n",
      "train set percentage of zeros: 99.97113004416734 and test set percentage of zeros: 99.99215923630256\n"
     ]
    }
   ],
   "source": [
    "# the Categoricals data structure consists of a categories array and an integer array of codes which point to \n",
    "#    the real value in the categories array\n",
    "user_cat = newCustomers_df['CustomerID'].astype('category')\n",
    "item_cat = newCustomers_df['ItemId'].astype(\"category\")\n",
    "\n",
    "# create a sparse matrix of all the item/user/counts triples for the train set and test set\n",
    "# https://docs.scipy.org/doc/scipy/reference/generated/scipy.sparse.coo_matrix.html#scipy.sparse.coo_matrix\n",
    "item_user_train = coo_matrix((newCustomers_df['train_split'],\n",
    "                              (item_cat.cat.codes,\n",
    "                               user_cat.cat.codes))).tocsr()\n",
    "item_user_train.eliminate_zeros()  # remove zero entries\n",
    "# produce transpose of item_user_train\n",
    "user_item_train = item_user_train.T\n",
    "\n",
    "item_user_test = coo_matrix(((~newCustomers_df['train_split'].astype(bool)).astype(int),\n",
    "                             (item_cat.cat.codes,\n",
    "                              user_cat.cat.codes))).tocsr()\n",
    "item_user_test.eliminate_zeros()  # remove zero entries\n",
    "# produce transpose of item_user_test\n",
    "user_item_test = item_user_test.T\n",
    "\n",
    "# map each item and user category to a unique numeric code\n",
    "user_map = dict(zip(user_cat, user_cat.cat.codes))\n",
    "item_map = dict(zip(item_cat, item_cat.cat.codes))\n",
    "\n",
    "def get_keys(value, dictionary):\n",
    "    \"\"\"Function to get dictionary keys with specifiec value\"\"\"\n",
    "    return list(dictionary.keys())[list(dictionary.values()).index(value)]\n",
    "\n",
    "# confirm shapes\n",
    "print(f\"train set shape: {item_user_train.shape} and test set shape: {item_user_test.shape}\")\n",
    "\n",
    "# check sparsity\n",
    "pzeros_train = 100 * (1 - item_user_train.count_nonzero() / (item_user_train.shape[0] * item_user_train.shape[1]))\n",
    "pzeros_test = 100 * (1 - item_user_test.count_nonzero() / (item_user_test.shape[0] * item_user_test.shape[1]))\n",
    "print(f\"train set percentage of zeros: {pzeros_train} and test set percentage of zeros: {pzeros_test}\")"
   ]
  },
  {
   "cell_type": "markdown",
   "metadata": {},
   "source": [
    "## ALS Model"
   ]
  },
  {
   "cell_type": "code",
   "execution_count": 731,
   "metadata": {},
   "outputs": [
    {
     "data": {
      "application/vnd.jupyter.widget-view+json": {
       "model_id": "c79de51142004b4f9cd1631b829fa028",
       "version_major": 2,
       "version_minor": 0
      },
      "text/plain": [
       "HBox(children=(HTML(value=''), FloatProgress(value=0.0, max=20.0), HTML(value='')))"
      ]
     },
     "metadata": {},
     "output_type": "display_data"
    },
    {
     "name": "stdout",
     "output_type": "stream",
     "text": [
      "\n"
     ]
    }
   ],
   "source": [
    "lpha = 1  # as we observe more evidence for positive preference, our confidence in pui = 1 increases according to alpha (rate of increase)\n",
    "als_model = AlternatingLeastSquares(factors=200, regularization=1e1, iterations=20, random_state=70)\n",
    "\n",
    "\n",
    "# train the model on a sparse matrix of item/user/confidence weights\n",
    "#os.environ['MKL_NUM_THREADS'] = '3'\n",
    "# os.environ['OPENBLAS_NUM_THREADS'] = '1'\n",
    "# about the alpha hyperparameter: https://github.com/benfred/implicit/issues/199#issuecomment-490350326\n",
    "als_model.fit((item_user_train * alpha).astype('double'))"
   ]
  },
  {
   "cell_type": "markdown",
   "metadata": {},
   "source": [
    "##  BayesianPersonalizedRanking Model"
   ]
  },
  {
   "cell_type": "code",
   "execution_count": 732,
   "metadata": {
    "scrolled": true
   },
   "outputs": [
    {
     "data": {
      "application/vnd.jupyter.widget-view+json": {
       "model_id": "ba41f8ce46ba4928ac4585bc7ce43056",
       "version_major": 2,
       "version_minor": 0
      },
      "text/plain": [
       "HBox(children=(HTML(value=''), FloatProgress(value=0.0, max=98.0), HTML(value='')))"
      ]
     },
     "metadata": {},
     "output_type": "display_data"
    },
    {
     "name": "stdout",
     "output_type": "stream",
     "text": [
      "\n"
     ]
    }
   ],
   "source": [
    "bpr_model = BayesianPersonalizedRanking(factors=101, regularization=1e1, iterations=98, random_state=70)\n",
    "bpr_model.fit(item_user_train)"
   ]
  },
  {
   "cell_type": "markdown",
   "metadata": {},
   "source": [
    "## LogisticMatrixFactorization model\n"
   ]
  },
  {
   "cell_type": "code",
   "execution_count": 733,
   "metadata": {
    "scrolled": true
   },
   "outputs": [
    {
     "name": "stderr",
     "output_type": "stream",
     "text": [
      "100%|██████████| 80/80 [00:04<00:00, 18.11it/s]\n"
     ]
    }
   ],
   "source": [
    "\n",
    "lmf_model = LogisticMatrixFactorization(factors=60, regularization=1e1, iterations=80, random_state=70)\n",
    "\n",
    "lmf_model.fit(item_user_train)"
   ]
  },
  {
   "cell_type": "markdown",
   "metadata": {},
   "source": [
    "## NMSLibAlternatingLeastSquares model\n"
   ]
  },
  {
   "cell_type": "code",
   "execution_count": 734,
   "metadata": {},
   "outputs": [
    {
     "data": {
      "application/vnd.jupyter.widget-view+json": {
       "model_id": "cff1a32d633b4d80a44851b363455c47",
       "version_major": 2,
       "version_minor": 0
      },
      "text/plain": [
       "HBox(children=(HTML(value=''), FloatProgress(value=0.0, max=15.0), HTML(value='')))"
      ]
     },
     "metadata": {},
     "output_type": "display_data"
    },
    {
     "name": "stdout",
     "output_type": "stream",
     "text": [
      "\n"
     ]
    }
   ],
   "source": [
    "nmslals_model=NMSLibAlternatingLeastSquares(approximate_similar_items =False, approximate_recommend =False, random_state=14)\n",
    "nmslals_model.fit(item_user_train)"
   ]
  },
  {
   "cell_type": "markdown",
   "metadata": {},
   "source": [
    "## Popular Model"
   ]
  },
  {
   "cell_type": "code",
   "execution_count": 735,
   "metadata": {},
   "outputs": [],
   "source": [
    "# Fitting PopularRecommender model\n",
    "pop_model = PopularRecommender()\n",
    "pop_model.fit(item_user_train)"
   ]
  },
  {
   "cell_type": "code",
   "execution_count": 736,
   "metadata": {
    "scrolled": false
   },
   "outputs": [
    {
     "data": {
      "application/vnd.jupyter.widget-view+json": {
       "model_id": "ef75cdec22684186a545060fc921f0b8",
       "version_major": 2,
       "version_minor": 0
      },
      "text/plain": [
       "HBox(children=(HTML(value=''), FloatProgress(value=0.0, max=39507.0), HTML(value='')))"
      ]
     },
     "metadata": {},
     "output_type": "display_data"
    },
    {
     "name": "stdout",
     "output_type": "stream",
     "text": [
      "\n"
     ]
    },
    {
     "data": {
      "application/vnd.jupyter.widget-view+json": {
       "model_id": "235e903d3c264fd599c1dda9d8176489",
       "version_major": 2,
       "version_minor": 0
      },
      "text/plain": [
       "HBox(children=(HTML(value=''), FloatProgress(value=0.0, max=39507.0), HTML(value='')))"
      ]
     },
     "metadata": {},
     "output_type": "display_data"
    },
    {
     "name": "stdout",
     "output_type": "stream",
     "text": [
      "\n"
     ]
    },
    {
     "data": {
      "application/vnd.jupyter.widget-view+json": {
       "model_id": "0ac901cd5d2d4f43823bc21e479a5b71",
       "version_major": 2,
       "version_minor": 0
      },
      "text/plain": [
       "HBox(children=(HTML(value=''), FloatProgress(value=0.0, max=39507.0), HTML(value='')))"
      ]
     },
     "metadata": {},
     "output_type": "display_data"
    },
    {
     "name": "stdout",
     "output_type": "stream",
     "text": [
      "\n"
     ]
    },
    {
     "data": {
      "application/vnd.jupyter.widget-view+json": {
       "model_id": "d2c65121579d4dc4b28f5d686e0f6452",
       "version_major": 2,
       "version_minor": 0
      },
      "text/plain": [
       "HBox(children=(HTML(value=''), FloatProgress(value=0.0, max=39507.0), HTML(value='')))"
      ]
     },
     "metadata": {},
     "output_type": "display_data"
    },
    {
     "name": "stdout",
     "output_type": "stream",
     "text": [
      "\n"
     ]
    },
    {
     "data": {
      "application/vnd.jupyter.widget-view+json": {
       "model_id": "8ab8ab604f7e450f8a0d6bf34c2ffa2e",
       "version_major": 2,
       "version_minor": 0
      },
      "text/plain": [
       "HBox(children=(HTML(value=''), FloatProgress(value=0.0, max=39507.0), HTML(value='')))"
      ]
     },
     "metadata": {},
     "output_type": "display_data"
    },
    {
     "name": "stdout",
     "output_type": "stream",
     "text": [
      "\n"
     ]
    },
    {
     "data": {
      "text/html": [
       "<div>\n",
       "<style scoped>\n",
       "    .dataframe tbody tr th:only-of-type {\n",
       "        vertical-align: middle;\n",
       "    }\n",
       "\n",
       "    .dataframe tbody tr th {\n",
       "        vertical-align: top;\n",
       "    }\n",
       "\n",
       "    .dataframe thead th {\n",
       "        text-align: right;\n",
       "    }\n",
       "</style>\n",
       "<table border=\"1\" class=\"dataframe\">\n",
       "  <thead>\n",
       "    <tr style=\"text-align: right;\">\n",
       "      <th></th>\n",
       "      <th>pop_model</th>\n",
       "      <th>als_model</th>\n",
       "      <th>bpr_model</th>\n",
       "      <th>lmf_model</th>\n",
       "      <th>nmslals_model</th>\n",
       "    </tr>\n",
       "  </thead>\n",
       "  <tbody>\n",
       "    <tr>\n",
       "      <th>precision</th>\n",
       "      <td>0.036383</td>\n",
       "      <td>0.009125</td>\n",
       "      <td>0.002963</td>\n",
       "      <td>0.036383</td>\n",
       "      <td>0.009125</td>\n",
       "    </tr>\n",
       "    <tr>\n",
       "      <th>map</th>\n",
       "      <td>0.014845</td>\n",
       "      <td>0.002597</td>\n",
       "      <td>0.000919</td>\n",
       "      <td>0.014743</td>\n",
       "      <td>0.002597</td>\n",
       "    </tr>\n",
       "    <tr>\n",
       "      <th>ndcg</th>\n",
       "      <td>0.019862</td>\n",
       "      <td>0.004122</td>\n",
       "      <td>0.001374</td>\n",
       "      <td>0.019763</td>\n",
       "      <td>0.004122</td>\n",
       "    </tr>\n",
       "    <tr>\n",
       "      <th>auc</th>\n",
       "      <td>0.516378</td>\n",
       "      <td>0.502730</td>\n",
       "      <td>0.499645</td>\n",
       "      <td>0.516376</td>\n",
       "      <td>0.502730</td>\n",
       "    </tr>\n",
       "  </tbody>\n",
       "</table>\n",
       "</div>"
      ],
      "text/plain": [
       "           pop_model  als_model  bpr_model  lmf_model  nmslals_model\n",
       "precision   0.036383   0.009125   0.002963   0.036383       0.009125\n",
       "map         0.014845   0.002597   0.000919   0.014743       0.002597\n",
       "ndcg        0.019862   0.004122   0.001374   0.019763       0.004122\n",
       "auc         0.516378   0.502730   0.499645   0.516376       0.502730"
      ]
     },
     "execution_count": 736,
     "metadata": {},
     "output_type": "execute_result"
    }
   ],
   "source": [
    "# Evaluate models. \n",
    "# Precision at K, Mean Average Precision at K, Normalized Discounted Cumulative Gain at K, AUC at K\n",
    "eval_models = {'pop_model': pop_model, \n",
    "               'als_model': als_model,\n",
    "                'bpr_model':bpr_model,\n",
    "                'lmf_model':lmf_model,\n",
    "               'nmslals_model':nmslals_model\n",
    "              }\n",
    "eval_table = {}\n",
    "for k, v in eval_models.items():\n",
    "    eval_table[k] = ranking_metrics_at_k(v, user_item_train, user_item_test, K=10, show_progress=True, num_threads=0)\n",
    "eval_table = pd.DataFrame(eval_table)\n",
    "eval_table"
   ]
  },
  {
   "cell_type": "code",
   "execution_count": 784,
   "metadata": {},
   "outputs": [],
   "source": [
    "customer_eval = eval_table.drop(['ndcg','map'])"
   ]
  },
  {
   "cell_type": "markdown",
   "metadata": {},
   "source": [
    "## LightFm"
   ]
  },
  {
   "cell_type": "code",
   "execution_count": 785,
   "metadata": {},
   "outputs": [
    {
     "data": {
      "text/plain": [
       "<lightfm.lightfm.LightFM at 0x2b336c32970>"
      ]
     },
     "execution_count": 785,
     "metadata": {},
     "output_type": "execute_result"
    }
   ],
   "source": [
    "lightFm_model = LightFM(loss='warp',learning_rate=0.018,k=10,no_components=50)\n",
    "lightFm_model.fit(user_item_train, epochs=5, num_threads=16)"
   ]
  },
  {
   "cell_type": "code",
   "execution_count": 786,
   "metadata": {},
   "outputs": [
    {
     "data": {
      "text/plain": [
       "0.012955036"
      ]
     },
     "execution_count": 786,
     "metadata": {},
     "output_type": "execute_result"
    }
   ],
   "source": [
    "train_precision = precision_at_k(lightFm_model, user_item_train, k=10).mean()\n",
    "train_precision"
   ]
  },
  {
   "cell_type": "code",
   "execution_count": 787,
   "metadata": {},
   "outputs": [
    {
     "data": {
      "text/plain": [
       "0.0034368334"
      ]
     },
     "execution_count": 787,
     "metadata": {},
     "output_type": "execute_result"
    }
   ],
   "source": [
    "test_precision = precision_at_k(lightFm_model, user_item_test, k=10).mean()\n",
    "test_precision"
   ]
  },
  {
   "cell_type": "code",
   "execution_count": 788,
   "metadata": {},
   "outputs": [
    {
     "data": {
      "text/plain": [
       "0.78267753"
      ]
     },
     "execution_count": 788,
     "metadata": {},
     "output_type": "execute_result"
    }
   ],
   "source": [
    "train_auc = auc_score(lightFm_model, user_item_train).mean()\n",
    "train_auc"
   ]
  },
  {
   "cell_type": "code",
   "execution_count": 789,
   "metadata": {},
   "outputs": [
    {
     "data": {
      "text/plain": [
       "0.70230544"
      ]
     },
     "execution_count": 789,
     "metadata": {},
     "output_type": "execute_result"
    }
   ],
   "source": [
    "test_auc = auc_score(lightFm_model, user_item_test).mean()\n",
    "test_auc"
   ]
  },
  {
   "cell_type": "code",
   "execution_count": 790,
   "metadata": {},
   "outputs": [],
   "source": [
    "light ={'lightfm_model':[test_precision,test_auc]}"
   ]
  },
  {
   "cell_type": "code",
   "execution_count": 780,
   "metadata": {},
   "outputs": [],
   "source": [
    "light_df=pd.DataFrame(data=light,index=['precision','auc'])"
   ]
  },
  {
   "cell_type": "code",
   "execution_count": 792,
   "metadata": {},
   "outputs": [],
   "source": [
    "customer_eval = pd.concat([customer_eval,light_df],axis=1)"
   ]
  },
  {
   "cell_type": "code",
   "execution_count": 793,
   "metadata": {},
   "outputs": [
    {
     "data": {
      "text/html": [
       "<div>\n",
       "<style scoped>\n",
       "    .dataframe tbody tr th:only-of-type {\n",
       "        vertical-align: middle;\n",
       "    }\n",
       "\n",
       "    .dataframe tbody tr th {\n",
       "        vertical-align: top;\n",
       "    }\n",
       "\n",
       "    .dataframe thead th {\n",
       "        text-align: right;\n",
       "    }\n",
       "</style>\n",
       "<table border=\"1\" class=\"dataframe\">\n",
       "  <thead>\n",
       "    <tr style=\"text-align: right;\">\n",
       "      <th></th>\n",
       "      <th>pop_model</th>\n",
       "      <th>als_model</th>\n",
       "      <th>bpr_model</th>\n",
       "      <th>lmf_model</th>\n",
       "      <th>nmslals_model</th>\n",
       "      <th>lightfm_model</th>\n",
       "    </tr>\n",
       "  </thead>\n",
       "  <tbody>\n",
       "    <tr>\n",
       "      <th>precision</th>\n",
       "      <td>0.036383</td>\n",
       "      <td>0.009125</td>\n",
       "      <td>0.002963</td>\n",
       "      <td>0.036383</td>\n",
       "      <td>0.009125</td>\n",
       "      <td>0.003520</td>\n",
       "    </tr>\n",
       "    <tr>\n",
       "      <th>auc</th>\n",
       "      <td>0.516378</td>\n",
       "      <td>0.502730</td>\n",
       "      <td>0.499645</td>\n",
       "      <td>0.516376</td>\n",
       "      <td>0.502730</td>\n",
       "      <td>0.703346</td>\n",
       "    </tr>\n",
       "  </tbody>\n",
       "</table>\n",
       "</div>"
      ],
      "text/plain": [
       "           pop_model  als_model  bpr_model  lmf_model  nmslals_model  \\\n",
       "precision   0.036383   0.009125   0.002963   0.036383       0.009125   \n",
       "auc         0.516378   0.502730   0.499645   0.516376       0.502730   \n",
       "\n",
       "           lightfm_model  \n",
       "precision       0.003520  \n",
       "auc             0.703346  "
      ]
     },
     "execution_count": 793,
     "metadata": {},
     "output_type": "execute_result"
    }
   ],
   "source": [
    "customer_eval"
   ]
  },
  {
   "cell_type": "markdown",
   "metadata": {},
   "source": [
    "## Final Solution"
   ]
  },
  {
   "cell_type": "code",
   "execution_count": null,
   "metadata": {},
   "outputs": [],
   "source": [
    "def recommend_items(model, userId):\n",
    "    description_list=[]\n",
    "    numberTrans=list(df[df['CustomerID']==userId].groupby('CustomerID')['TransactionId'].count())[0]\n",
    "    if numberTrans < 11:\n",
    "        print('Less than 10 Transactions, Popular Algorithm used')\n",
    "        recommendations = pop_model.recommend(user_map[user_id],user_item_train)\n",
    "        recommendations_list = list(map(lambda x: (get_keys(x[0], item_map), x[1]), recommendations))\n",
    "        for i in range(len(recommendations_list)):\n",
    "            description_list.append(df[df['ItemId']==recommendations_list[i][0]]['Description'].unique()[0]) \n",
    "        return description_list\n",
    "    else:\n",
    "        recommendations=model.recommend(user_map[user_id],user_item_train)\n",
    "        recommendations_list =  list(map(lambda x: (get_keys(x[0], item_map), x[1]), recommendations))\n",
    "        for i in range(len(recommendations_list)):\n",
    "            description_list.append(df[df['ItemId']==recommendations_list[i][0]]['Description'].unique()[0]) \n",
    "        return description_list"
   ]
  }
 ],
 "metadata": {
  "kernelspec": {
   "display_name": "Python 3",
   "language": "python",
   "name": "python3"
  },
  "language_info": {
   "codemirror_mode": {
    "name": "ipython",
    "version": 3
   },
   "file_extension": ".py",
   "mimetype": "text/x-python",
   "name": "python",
   "nbconvert_exporter": "python",
   "pygments_lexer": "ipython3",
   "version": "3.8.5"
  }
 },
 "nbformat": 4,
 "nbformat_minor": 5
}
