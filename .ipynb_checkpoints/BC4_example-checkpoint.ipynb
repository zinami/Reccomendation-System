{
 "cells": [
  {
   "cell_type": "markdown",
   "metadata": {},
   "source": [
    "# Implicit feedback recommender system\n",
    "- https://github.com/benfred/implicit\n",
    "- https://www.benfrederickson.com/matrix-factorization/\n",
    "- https://www.ethanrosenthal.com/2016/10/19/implicit-mf-part-1/\n",
    "- https://kojinoshiba.com/recsys-cold-start/"
   ]
  },
  {
   "cell_type": "code",
   "execution_count": 1,
   "metadata": {},
   "outputs": [
    {
     "ename": "ModuleNotFoundError",
     "evalue": "No module named 'implicit'",
     "output_type": "error",
     "traceback": [
      "\u001b[1;31m---------------------------------------------------------------------------\u001b[0m",
      "\u001b[1;31mModuleNotFoundError\u001b[0m                       Traceback (most recent call last)",
      "\u001b[1;32m<ipython-input-1-2df71571e6b2>\u001b[0m in \u001b[0;36m<module>\u001b[1;34m\u001b[0m\n\u001b[0;32m      4\u001b[0m \u001b[1;32mimport\u001b[0m \u001b[0mmatplotlib\u001b[0m\u001b[1;33m.\u001b[0m\u001b[0mpyplot\u001b[0m \u001b[1;32mas\u001b[0m \u001b[0mplt\u001b[0m\u001b[1;33m\u001b[0m\u001b[1;33m\u001b[0m\u001b[0m\n\u001b[0;32m      5\u001b[0m \u001b[1;32mfrom\u001b[0m \u001b[0mscipy\u001b[0m\u001b[1;33m.\u001b[0m\u001b[0msparse\u001b[0m \u001b[1;32mimport\u001b[0m \u001b[0mcoo_matrix\u001b[0m\u001b[1;33m\u001b[0m\u001b[1;33m\u001b[0m\u001b[0m\n\u001b[1;32m----> 6\u001b[1;33m \u001b[1;32mfrom\u001b[0m \u001b[0mimplicit\u001b[0m\u001b[1;33m.\u001b[0m\u001b[0mals\u001b[0m \u001b[1;32mimport\u001b[0m \u001b[0mAlternatingLeastSquares\u001b[0m\u001b[1;33m\u001b[0m\u001b[1;33m\u001b[0m\u001b[0m\n\u001b[0m\u001b[0;32m      7\u001b[0m \u001b[1;32mfrom\u001b[0m \u001b[0mimplicit\u001b[0m\u001b[1;33m.\u001b[0m\u001b[0mevaluation\u001b[0m \u001b[1;32mimport\u001b[0m \u001b[0mranking_metrics_at_k\u001b[0m\u001b[1;33m\u001b[0m\u001b[1;33m\u001b[0m\u001b[0m\n\u001b[0;32m      8\u001b[0m \u001b[1;32mfrom\u001b[0m \u001b[0mtqdm\u001b[0m \u001b[1;32mimport\u001b[0m \u001b[0mtqdm\u001b[0m\u001b[1;33m\u001b[0m\u001b[1;33m\u001b[0m\u001b[0m\n",
      "\u001b[1;31mModuleNotFoundError\u001b[0m: No module named 'implicit'"
     ]
    }
   ],
   "source": [
    "import os\n",
    "import pandas as pd\n",
    "import numpy as np\n",
    "import matplotlib.pyplot as plt\n",
    "from scipy.sparse import coo_matrix\n",
    "from implicit.als import AlternatingLeastSquares\n",
    "from implicit.evaluation import ranking_metrics_at_k\n",
    "from tqdm import tqdm"
   ]
  },
  {
   "cell_type": "markdown",
   "metadata": {},
   "source": [
    "# Data Exploration"
   ]
  },
  {
   "cell_type": "code",
   "execution_count": 2,
   "metadata": {},
   "outputs": [],
   "source": [
    "# Read csv files\n",
    "df = pd.read_csv('events_example.csv')"
   ]
  },
  {
   "cell_type": "code",
   "execution_count": 3,
   "metadata": {},
   "outputs": [
    {
     "data": {
      "text/html": [
       "<div>\n",
       "<style scoped>\n",
       "    .dataframe tbody tr th:only-of-type {\n",
       "        vertical-align: middle;\n",
       "    }\n",
       "\n",
       "    .dataframe tbody tr th {\n",
       "        vertical-align: top;\n",
       "    }\n",
       "\n",
       "    .dataframe thead th {\n",
       "        text-align: right;\n",
       "    }\n",
       "</style>\n",
       "<table border=\"1\" class=\"dataframe\">\n",
       "  <thead>\n",
       "    <tr style=\"text-align: right;\">\n",
       "      <th></th>\n",
       "      <th>timestamp</th>\n",
       "      <th>visitorid</th>\n",
       "      <th>event</th>\n",
       "      <th>itemid</th>\n",
       "      <th>transactionid</th>\n",
       "    </tr>\n",
       "  </thead>\n",
       "  <tbody>\n",
       "    <tr>\n",
       "      <th>0</th>\n",
       "      <td>2015-06-02 05:02:12.117</td>\n",
       "      <td>257597</td>\n",
       "      <td>view</td>\n",
       "      <td>355908</td>\n",
       "      <td>NaN</td>\n",
       "    </tr>\n",
       "    <tr>\n",
       "      <th>1</th>\n",
       "      <td>2015-06-02 05:50:14.164</td>\n",
       "      <td>992329</td>\n",
       "      <td>view</td>\n",
       "      <td>248676</td>\n",
       "      <td>NaN</td>\n",
       "    </tr>\n",
       "    <tr>\n",
       "      <th>2</th>\n",
       "      <td>2015-06-02 05:13:19.827</td>\n",
       "      <td>111016</td>\n",
       "      <td>view</td>\n",
       "      <td>318965</td>\n",
       "      <td>NaN</td>\n",
       "    </tr>\n",
       "    <tr>\n",
       "      <th>3</th>\n",
       "      <td>2015-06-02 05:12:35.914</td>\n",
       "      <td>483717</td>\n",
       "      <td>view</td>\n",
       "      <td>253185</td>\n",
       "      <td>NaN</td>\n",
       "    </tr>\n",
       "    <tr>\n",
       "      <th>4</th>\n",
       "      <td>2015-06-02 05:02:17.106</td>\n",
       "      <td>951259</td>\n",
       "      <td>view</td>\n",
       "      <td>367447</td>\n",
       "      <td>NaN</td>\n",
       "    </tr>\n",
       "  </tbody>\n",
       "</table>\n",
       "</div>"
      ],
      "text/plain": [
       "                timestamp visitorid event  itemid transactionid\n",
       "0 2015-06-02 05:02:12.117    257597  view  355908           NaN\n",
       "1 2015-06-02 05:50:14.164    992329  view  248676           NaN\n",
       "2 2015-06-02 05:13:19.827    111016  view  318965           NaN\n",
       "3 2015-06-02 05:12:35.914    483717  view  253185           NaN\n",
       "4 2015-06-02 05:02:17.106    951259  view  367447           NaN"
      ]
     },
     "execution_count": 3,
     "metadata": {},
     "output_type": "execute_result"
    }
   ],
   "source": [
    "# Get df_events and correctly encode the variables\n",
    "df['timestamp'] = pd.to_datetime(df['timestamp'], unit='ms')\n",
    "df = df.astype({'visitorid': object, 'itemid': object, 'transactionid': object})\n",
    "df.head()"
   ]
  },
  {
   "cell_type": "code",
   "execution_count": 4,
   "metadata": {
    "scrolled": true
   },
   "outputs": [
    {
     "data": {
      "text/html": [
       "<div>\n",
       "<style scoped>\n",
       "    .dataframe tbody tr th:only-of-type {\n",
       "        vertical-align: middle;\n",
       "    }\n",
       "\n",
       "    .dataframe tbody tr th {\n",
       "        vertical-align: top;\n",
       "    }\n",
       "\n",
       "    .dataframe thead th {\n",
       "        text-align: right;\n",
       "    }\n",
       "</style>\n",
       "<table border=\"1\" class=\"dataframe\">\n",
       "  <thead>\n",
       "    <tr style=\"text-align: right;\">\n",
       "      <th></th>\n",
       "      <th>timestamp</th>\n",
       "      <th>visitorid</th>\n",
       "      <th>event</th>\n",
       "      <th>itemid</th>\n",
       "      <th>transactionid</th>\n",
       "    </tr>\n",
       "  </thead>\n",
       "  <tbody>\n",
       "    <tr>\n",
       "      <th>count</th>\n",
       "      <td>2756101</td>\n",
       "      <td>2756101.0</td>\n",
       "      <td>2756101</td>\n",
       "      <td>2756101.0</td>\n",
       "      <td>22457.0</td>\n",
       "    </tr>\n",
       "    <tr>\n",
       "      <th>unique</th>\n",
       "      <td>NaN</td>\n",
       "      <td>1407580.0</td>\n",
       "      <td>3</td>\n",
       "      <td>235061.0</td>\n",
       "      <td>17672.0</td>\n",
       "    </tr>\n",
       "    <tr>\n",
       "      <th>top</th>\n",
       "      <td>NaN</td>\n",
       "      <td>1150086.0</td>\n",
       "      <td>view</td>\n",
       "      <td>187946.0</td>\n",
       "      <td>7063.0</td>\n",
       "    </tr>\n",
       "    <tr>\n",
       "      <th>freq</th>\n",
       "      <td>NaN</td>\n",
       "      <td>7757.0</td>\n",
       "      <td>2664312</td>\n",
       "      <td>3412.0</td>\n",
       "      <td>31.0</td>\n",
       "    </tr>\n",
       "    <tr>\n",
       "      <th>mean</th>\n",
       "      <td>2015-07-09 06:48:08.348103680</td>\n",
       "      <td>NaN</td>\n",
       "      <td>NaN</td>\n",
       "      <td>NaN</td>\n",
       "      <td>NaN</td>\n",
       "    </tr>\n",
       "    <tr>\n",
       "      <th>min</th>\n",
       "      <td>2015-05-03 03:00:04.384000</td>\n",
       "      <td>NaN</td>\n",
       "      <td>NaN</td>\n",
       "      <td>NaN</td>\n",
       "      <td>NaN</td>\n",
       "    </tr>\n",
       "    <tr>\n",
       "      <th>25%</th>\n",
       "      <td>2015-06-05 04:23:14.792000</td>\n",
       "      <td>NaN</td>\n",
       "      <td>NaN</td>\n",
       "      <td>NaN</td>\n",
       "      <td>NaN</td>\n",
       "    </tr>\n",
       "    <tr>\n",
       "      <th>50%</th>\n",
       "      <td>2015-07-09 14:43:33.599000064</td>\n",
       "      <td>NaN</td>\n",
       "      <td>NaN</td>\n",
       "      <td>NaN</td>\n",
       "      <td>NaN</td>\n",
       "    </tr>\n",
       "    <tr>\n",
       "      <th>75%</th>\n",
       "      <td>2015-08-10 16:45:05.168000</td>\n",
       "      <td>NaN</td>\n",
       "      <td>NaN</td>\n",
       "      <td>NaN</td>\n",
       "      <td>NaN</td>\n",
       "    </tr>\n",
       "    <tr>\n",
       "      <th>max</th>\n",
       "      <td>2015-09-18 02:59:47.788000</td>\n",
       "      <td>NaN</td>\n",
       "      <td>NaN</td>\n",
       "      <td>NaN</td>\n",
       "      <td>NaN</td>\n",
       "    </tr>\n",
       "  </tbody>\n",
       "</table>\n",
       "</div>"
      ],
      "text/plain": [
       "                            timestamp  visitorid    event     itemid  \\\n",
       "count                         2756101  2756101.0  2756101  2756101.0   \n",
       "unique                            NaN  1407580.0        3   235061.0   \n",
       "top                               NaN  1150086.0     view   187946.0   \n",
       "freq                              NaN     7757.0  2664312     3412.0   \n",
       "mean    2015-07-09 06:48:08.348103680        NaN      NaN        NaN   \n",
       "min        2015-05-03 03:00:04.384000        NaN      NaN        NaN   \n",
       "25%        2015-06-05 04:23:14.792000        NaN      NaN        NaN   \n",
       "50%     2015-07-09 14:43:33.599000064        NaN      NaN        NaN   \n",
       "75%        2015-08-10 16:45:05.168000        NaN      NaN        NaN   \n",
       "max        2015-09-18 02:59:47.788000        NaN      NaN        NaN   \n",
       "\n",
       "        transactionid  \n",
       "count         22457.0  \n",
       "unique        17672.0  \n",
       "top            7063.0  \n",
       "freq             31.0  \n",
       "mean              NaN  \n",
       "min               NaN  \n",
       "25%               NaN  \n",
       "50%               NaN  \n",
       "75%               NaN  \n",
       "max               NaN  "
      ]
     },
     "execution_count": 4,
     "metadata": {},
     "output_type": "execute_result"
    }
   ],
   "source": [
    "# Describe dataset\n",
    "df.describe(include='all', datetime_is_numeric=True)"
   ]
  },
  {
   "cell_type": "code",
   "execution_count": 5,
   "metadata": {},
   "outputs": [
    {
     "data": {
      "text/plain": [
       "view           2664312\n",
       "addtocart        69332\n",
       "transaction      22457\n",
       "Name: event, dtype: int64"
      ]
     },
     "execution_count": 5,
     "metadata": {},
     "output_type": "execute_result"
    }
   ],
   "source": [
    "# Value counts of event\n",
    "df['event'].value_counts()"
   ]
  },
  {
   "cell_type": "code",
   "execution_count": 6,
   "metadata": {},
   "outputs": [
    {
     "data": {
      "text/plain": [
       "timestamp              0\n",
       "visitorid              0\n",
       "event                  0\n",
       "itemid                 0\n",
       "transactionid    2733644\n",
       "dtype: int64"
      ]
     },
     "execution_count": 6,
     "metadata": {},
     "output_type": "execute_result"
    }
   ],
   "source": [
    "# Missing values\n",
    "df.isna().sum()  # transactionid is only present when the event is transaction"
   ]
  },
  {
   "cell_type": "code",
   "execution_count": 7,
   "metadata": {},
   "outputs": [
    {
     "data": {
      "image/png": "[encoded data removed]",
      "text/plain": [
       "<Figure size 1224x360 with 2 Axes>"
      ]
     },
     "metadata": {
      "needs_background": "light"
     },
     "output_type": "display_data"
    },
    {
     "name": "stdout",
     "output_type": "stream",
     "text": [
      "28.85% of visitors have more than 1 event!\n"
     ]
    }
   ],
   "source": [
    "# Distribution of number of visitor events\n",
    "data1 = df['visitorid'].value_counts()  # count of events per visitorid\n",
    "data2 = data1.value_counts(normalize=True)[:9]\n",
    "data2[10] = data1.value_counts(normalize=True)[9:].sum()  # count of counts of events per visitorid\n",
    "\n",
    "fig, (ax1, ax2) = plt.subplots(1, 2, figsize=(17,5))\n",
    "ax1.boxplot(data1)\n",
    "ax2.bar(data2.index, data2.values)\n",
    "\n",
    "ax2.set_xticks(list(range(1,11)))\n",
    "ax2.set_xticklabels(list(range(1,10)) +['10+'])\n",
    "fig.suptitle(\"Distribution of number of visitor events\")\n",
    "\n",
    "plt.show()\n",
    "print(\"{0:.2f}% of visitors have more than 1 event!\".format(100 * (np.sum(data1 > 1) / data1.shape[0])))"
   ]
  },
  {
   "cell_type": "code",
   "execution_count": 8,
   "metadata": {},
   "outputs": [
    {
     "data": {
      "image/png": "[encoded data removed]",
      "text/plain": [
       "<Figure size 1224x360 with 2 Axes>"
      ]
     },
     "metadata": {
      "needs_background": "light"
     },
     "output_type": "display_data"
    },
    {
     "name": "stdout",
     "output_type": "stream",
     "text": [
      "68.69% of items have more than 1 event!\n"
     ]
    }
   ],
   "source": [
    "# Distribution of number of item events\n",
    "data1 = df['itemid'].value_counts()  # count of events per visitorid\n",
    "data2 = data1.value_counts(normalize=True)[:9]\n",
    "data2[10] = data1.value_counts(normalize=True)[9:].sum()  # count of counts of events per visitorid\n",
    "\n",
    "fig, (ax1, ax2) = plt.subplots(1, 2, figsize=(17,5))\n",
    "ax1.boxplot(data1)\n",
    "ax2.bar(data2.index, data2.values)\n",
    "\n",
    "ax2.set_xticks(list(range(1,11)))\n",
    "ax2.set_xticklabels(list(range(1,10)) +['10+'])\n",
    "fig.suptitle(\"Distribution of number of item events\")\n",
    "\n",
    "plt.show()\n",
    "print(\"{0:.2f}% of items have more than 1 event!\".format(100 * (np.sum(data1 > 1) / data1.shape[0])))"
   ]
  },
  {
   "cell_type": "code",
   "execution_count": 9,
   "metadata": {
    "scrolled": false
   },
   "outputs": [
    {
     "data": {
      "image/png": "[encoded data removed]",
      "text/plain": [
       "<Figure size 864x432 with 1 Axes>"
      ]
     },
     "metadata": {
      "needs_background": "light"
     },
     "output_type": "display_data"
    }
   ],
   "source": [
    "# Visualize number of events per day\n",
    "data = pd.DatetimeIndex(df['timestamp']).normalize().value_counts().sort_index()\n",
    "fig = plt.figure(figsize=(12,6))\n",
    "plt.plot(data.index, data.values, linestyle=\"-\")\n",
    "plt.xticks(np.arange(data.index[0], data.index[-1], pd.to_timedelta(7, unit='d')), rotation=45)\n",
    "plt.title('Event frequency time series')\n",
    "plt.show()"
   ]
  },
  {
   "cell_type": "code",
   "execution_count": 10,
   "metadata": {},
   "outputs": [
    {
     "name": "stdout",
     "output_type": "stream",
     "text": [
      "The dataset has 138 days, corresponding to 19 weeks.\n"
     ]
    }
   ],
   "source": [
    "# How many weeks does the dataset has?\n",
    "diff = (data.index.max() - data.index.min())\n",
    "print(f\"The dataset has {diff.days} days, corresponding to {diff.days//7} weeks.\")"
   ]
  },
  {
   "cell_type": "markdown",
   "metadata": {},
   "source": [
    "# Reduce Sparsity\n",
    "\n",
    "> **While implicit recommendations excel where data is sparse, it can often be helpful to make the interactions matrix a little more dense.**\n",
    "\n",
    "- To reduce sparsity we can exclude users or/and items without significant event history ([cold-start problem](https://en.wikipedia.org/wiki/Cold_start_(recommender_systems)))\n",
    "- We limited our dataset to users and items with at least 5 event occurrences."
   ]
  },
  {
   "cell_type": "code",
   "execution_count": 11,
   "metadata": {},
   "outputs": [],
   "source": [
    "def threshold_ratings(df, uid_min, iid_min, max_iter=None):\n",
    "    \"\"\"Removes users and items with less than uid_min and iid_min event occurrences, respectively.\n",
    "    Credits: https://www.ethanrosenthal.com/2016/10/19/implicit-mf-part-1/\n",
    "    \"\"\"\n",
    "    n_users = df['visitorid'].nunique()\n",
    "    n_items = df['itemid'].nunique()\n",
    "    sparsity = float(df.shape[0]) / float(n_users * n_items) * 100\n",
    "    print('Raw dataset info \\n-----------------')\n",
    "    print('Number of users: {}'.format(n_users))\n",
    "    print('Number of items: {}'.format(n_items))\n",
    "    print('Sparsity: {:4.3f}%'.format(sparsity))\n",
    "    \n",
    "    done, i = False, 0\n",
    "    while not done:\n",
    "        # When we exclude users with freq less than uid_min we might end up with new \n",
    "        # items with freq less than iid_min, so we will have to alternate back and forth\n",
    "        starting_shape = df.shape[0]  # number of existing events\n",
    "\n",
    "        uid_counts = df.groupby('visitorid').size()  # user id frequencies\n",
    "        df = df[~df['visitorid'].isin(uid_counts[uid_counts < uid_min].index.tolist())]  # keep events with users with frequency >= uid_min\n",
    "\n",
    "        iid_counts = df.groupby('itemid').size()  # item id frequencies\n",
    "        df = df[~df['itemid'].isin(iid_counts[iid_counts < iid_min].index.tolist())]  # keep events with items with frequency >= iid_min\n",
    "\n",
    "        ending_shape = df.shape[0]  # number of existing events after filters\n",
    "        i += 1\n",
    "        if starting_shape == ending_shape or i == max_iter:  # convergence happens\n",
    "            done = True\n",
    "    \n",
    "    if not max_iter:\n",
    "        assert(df.groupby('visitorid').size().min() >= uid_min)\n",
    "        assert(df.groupby('itemid').size().min() >= iid_min)\n",
    "    \n",
    "    n_users = df['visitorid'].nunique()\n",
    "    n_items = df['itemid'].nunique()\n",
    "    sparsity = float(df.shape[0]) / float(n_users * n_items) * 100\n",
    "    print('Limited dataset info \\n-----------------')\n",
    "    print('Number of iterations until convergence: {}'.format(i))\n",
    "    print('Number of users: {}'.format(n_users))\n",
    "    print('Number of items: {}'.format(n_items))\n",
    "    print('Sparsity: {:4.3f}%'.format(sparsity))\n",
    "    return df"
   ]
  },
  {
   "cell_type": "code",
   "execution_count": 12,
   "metadata": {},
   "outputs": [
    {
     "name": "stdout",
     "output_type": "stream",
     "text": [
      "Raw dataset info \n",
      "-----------------\n",
      "Number of users: 1407580\n",
      "Number of items: 235061\n",
      "Sparsity: 0.001%\n",
      "Limited dataset info \n",
      "-----------------\n",
      "Number of iterations until convergence: 12\n",
      "Number of users: 31735\n",
      "Number of items: 22576\n",
      "Sparsity: 0.076%\n"
     ]
    }
   ],
   "source": [
    "# get limited dataset\n",
    "df_limited = threshold_ratings(df, 7, 7)"
   ]
  },
  {
   "cell_type": "markdown",
   "metadata": {},
   "source": [
    "# Train-test split\n",
    "We want to split the train and test events such that:\n",
    "- all test events occur after all train events"
   ]
  },
  {
   "cell_type": "code",
   "execution_count": 13,
   "metadata": {},
   "outputs": [
    {
     "name": "stdout",
     "output_type": "stream",
     "text": [
      "Proportion of train events: 0.82\n"
     ]
    }
   ],
   "source": [
    "# Train-test split\n",
    "start_train = df_limited['timestamp'].min()\n",
    "start_test = start_train + pd.to_timedelta(15, unit='w')\n",
    "end_test = start_test + pd.to_timedelta(5, unit='w')\n",
    "\n",
    "# Create new limited df\n",
    "df_limited = df_limited.loc[(df_limited['timestamp'] > start_train) & (df_limited['timestamp'] <= end_test)]\n",
    "\n",
    "# Create train_split flag\n",
    "df_limited['train_split'] = (df_limited['timestamp'] <= start_test).astype(int)\n",
    "print(\"Proportion of train events: {:.2f}\".format(df_limited['train_split'].mean()))"
   ]
  },
  {
   "cell_type": "code",
   "execution_count": 14,
   "metadata": {},
   "outputs": [
    {
     "data": {
      "image/png": "[encoded data removed]",
      "text/plain": [
       "<Figure size 864x432 with 1 Axes>"
      ]
     },
     "metadata": {
      "needs_background": "light"
     },
     "output_type": "display_data"
    }
   ],
   "source": [
    "# Visualize train and test set\n",
    "data = pd.DatetimeIndex(df_limited['timestamp']).normalize().value_counts().sort_index()\n",
    "fig = plt.figure(figsize=(12,6))\n",
    "plt.plot(data.index, data.values, linestyle=\"-\")\n",
    "plt.xticks(np.arange(data.index[0], data.index[-1], pd.to_timedelta(7, unit='d')), rotation=45)\n",
    "plt.vlines(start_test, 0, data.max(), linestyles='dashed', color='r', label='train-test split')\n",
    "plt.legend()\n",
    "plt.title('Event frequency time series - train and test set')\n",
    "plt.show()"
   ]
  },
  {
   "cell_type": "markdown",
   "metadata": {},
   "source": [
    "# Create the train and test Rating Matrices\n",
    "\n",
    "<img src=\"./images/MaskTrain.png\" alt=\"MaskTrain\" style=\"width: 600px;\"/>"
   ]
  },
  {
   "cell_type": "code",
   "execution_count": 15,
   "metadata": {
    "scrolled": false
   },
   "outputs": [
    {
     "name": "stdout",
     "output_type": "stream",
     "text": [
      "train set shape: (22576, 31735) and test set shape: (22576, 31735)\n",
      "train set percentage of zeros: 99.96960022408284 and test set percentage of zeros: 99.99313154526371\n"
     ]
    }
   ],
   "source": [
    "# the Categoricals data structure consists of a categories array and an integer array of codes which point to \n",
    "#    the real value in the categories array\n",
    "user_cat = df_limited['visitorid'].astype('category')\n",
    "item_cat = df_limited['itemid'].astype(\"category\")\n",
    "\n",
    "# create a sparse matrix of all the item/user/counts triples for the train set and test set\n",
    "# https://docs.scipy.org/doc/scipy/reference/generated/scipy.sparse.coo_matrix.html#scipy.sparse.coo_matrix\n",
    "item_user_train = coo_matrix((df_limited['train_split'],\n",
    "                              (item_cat.cat.codes,\n",
    "                               user_cat.cat.codes))).tocsr()\n",
    "item_user_train.eliminate_zeros()  # remove zero entries\n",
    "# produce transpose of item_user_train\n",
    "user_item_train = item_user_train.T\n",
    "\n",
    "item_user_test = coo_matrix(((~df_limited['train_split'].astype(bool)).astype(int),\n",
    "                             (item_cat.cat.codes,\n",
    "                              user_cat.cat.codes))).tocsr()\n",
    "item_user_test.eliminate_zeros()  # remove zero entries\n",
    "# produce transpose of item_user_test\n",
    "user_item_test = item_user_test.T\n",
    "\n",
    "# map each item and user category to a unique numeric code\n",
    "user_map = dict(zip(user_cat, user_cat.cat.codes))\n",
    "item_map = dict(zip(item_cat, item_cat.cat.codes))\n",
    "\n",
    "def get_keys(value, dictionary):\n",
    "    \"\"\"Function to get dictionary keys with specifiec value\"\"\"\n",
    "    return list(dictionary.keys())[list(dictionary.values()).index(value)]\n",
    "\n",
    "# confirm shapes\n",
    "print(f\"train set shape: {item_user_train.shape} and test set shape: {item_user_test.shape}\")\n",
    "\n",
    "# check sparsity\n",
    "pzeros_train = 100 * (1 - item_user_train.count_nonzero() / (item_user_train.shape[0] * item_user_train.shape[1]))\n",
    "pzeros_test = 100 * (1 - item_user_test.count_nonzero() / (item_user_test.shape[0] * item_user_test.shape[1]))\n",
    "print(f\"train set percentage of zeros: {pzeros_train} and test set percentage of zeros: {pzeros_test}\")"
   ]
  },
  {
   "cell_type": "code",
   "execution_count": 16,
   "metadata": {
    "scrolled": true
   },
   "outputs": [
    {
     "data": {
      "text/plain": [
       "set()"
      ]
     },
     "execution_count": 16,
     "metadata": {},
     "output_type": "execute_result"
    }
   ],
   "source": [
    "# users with no items on the train set and not items on the test set\n",
    "zero_users_test = (np.squeeze(np.asarray(user_item_test.sum(axis=1))) == 0).nonzero()[0]\n",
    "zero_users_train = (np.squeeze(np.asarray(user_item_train.sum(axis=1))) == 0).nonzero()[0]\n",
    "set(zero_users_test).intersection(zero_users_train)"
   ]
  },
  {
   "cell_type": "code",
   "execution_count": 17,
   "metadata": {},
   "outputs": [
    {
     "data": {
      "text/html": [
       "<div>\n",
       "<style scoped>\n",
       "    .dataframe tbody tr th:only-of-type {\n",
       "        vertical-align: middle;\n",
       "    }\n",
       "\n",
       "    .dataframe tbody tr th {\n",
       "        vertical-align: top;\n",
       "    }\n",
       "\n",
       "    .dataframe thead th {\n",
       "        text-align: right;\n",
       "    }\n",
       "</style>\n",
       "<table border=\"1\" class=\"dataframe\">\n",
       "  <thead>\n",
       "    <tr style=\"text-align: right;\">\n",
       "      <th></th>\n",
       "      <th>timestamp</th>\n",
       "      <th>visitorid</th>\n",
       "      <th>event</th>\n",
       "      <th>itemid</th>\n",
       "      <th>transactionid</th>\n",
       "      <th>train_split</th>\n",
       "    </tr>\n",
       "  </thead>\n",
       "  <tbody>\n",
       "    <tr>\n",
       "      <th>6929</th>\n",
       "      <td>2015-06-01 15:18:39.559</td>\n",
       "      <td>388556</td>\n",
       "      <td>view</td>\n",
       "      <td>306289</td>\n",
       "      <td>NaN</td>\n",
       "      <td>1</td>\n",
       "    </tr>\n",
       "    <tr>\n",
       "      <th>8599</th>\n",
       "      <td>2015-06-01 23:53:01.983</td>\n",
       "      <td>388556</td>\n",
       "      <td>view</td>\n",
       "      <td>306289</td>\n",
       "      <td>NaN</td>\n",
       "      <td>1</td>\n",
       "    </tr>\n",
       "    <tr>\n",
       "      <th>8625</th>\n",
       "      <td>2015-06-01 23:44:07.473</td>\n",
       "      <td>388556</td>\n",
       "      <td>view</td>\n",
       "      <td>306289</td>\n",
       "      <td>NaN</td>\n",
       "      <td>1</td>\n",
       "    </tr>\n",
       "    <tr>\n",
       "      <th>11133</th>\n",
       "      <td>2015-06-01 15:18:28.989</td>\n",
       "      <td>388556</td>\n",
       "      <td>view</td>\n",
       "      <td>306289</td>\n",
       "      <td>NaN</td>\n",
       "      <td>1</td>\n",
       "    </tr>\n",
       "    <tr>\n",
       "      <th>15572</th>\n",
       "      <td>2015-06-01 23:43:57.238</td>\n",
       "      <td>388556</td>\n",
       "      <td>view</td>\n",
       "      <td>306289</td>\n",
       "      <td>NaN</td>\n",
       "      <td>1</td>\n",
       "    </tr>\n",
       "    <tr>\n",
       "      <th>...</th>\n",
       "      <td>...</td>\n",
       "      <td>...</td>\n",
       "      <td>...</td>\n",
       "      <td>...</td>\n",
       "      <td>...</td>\n",
       "      <td>...</td>\n",
       "    </tr>\n",
       "    <tr>\n",
       "      <th>2144682</th>\n",
       "      <td>2015-07-05 16:15:20.653</td>\n",
       "      <td>388556</td>\n",
       "      <td>view</td>\n",
       "      <td>306289</td>\n",
       "      <td>NaN</td>\n",
       "      <td>1</td>\n",
       "    </tr>\n",
       "    <tr>\n",
       "      <th>2149725</th>\n",
       "      <td>2015-07-05 23:50:53.434</td>\n",
       "      <td>388556</td>\n",
       "      <td>view</td>\n",
       "      <td>306289</td>\n",
       "      <td>NaN</td>\n",
       "      <td>1</td>\n",
       "    </tr>\n",
       "    <tr>\n",
       "      <th>2159258</th>\n",
       "      <td>2015-07-06 20:32:44.467</td>\n",
       "      <td>388556</td>\n",
       "      <td>view</td>\n",
       "      <td>306289</td>\n",
       "      <td>NaN</td>\n",
       "      <td>1</td>\n",
       "    </tr>\n",
       "    <tr>\n",
       "      <th>2170254</th>\n",
       "      <td>2015-07-06 20:28:15.581</td>\n",
       "      <td>388556</td>\n",
       "      <td>view</td>\n",
       "      <td>306289</td>\n",
       "      <td>NaN</td>\n",
       "      <td>1</td>\n",
       "    </tr>\n",
       "    <tr>\n",
       "      <th>2170406</th>\n",
       "      <td>2015-07-06 20:28:09.409</td>\n",
       "      <td>388556</td>\n",
       "      <td>view</td>\n",
       "      <td>306289</td>\n",
       "      <td>NaN</td>\n",
       "      <td>1</td>\n",
       "    </tr>\n",
       "  </tbody>\n",
       "</table>\n",
       "<p>308 rows × 6 columns</p>\n",
       "</div>"
      ],
      "text/plain": [
       "                      timestamp visitorid event  itemid transactionid  \\\n",
       "6929    2015-06-01 15:18:39.559    388556  view  306289           NaN   \n",
       "8599    2015-06-01 23:53:01.983    388556  view  306289           NaN   \n",
       "8625    2015-06-01 23:44:07.473    388556  view  306289           NaN   \n",
       "11133   2015-06-01 15:18:28.989    388556  view  306289           NaN   \n",
       "15572   2015-06-01 23:43:57.238    388556  view  306289           NaN   \n",
       "...                         ...       ...   ...     ...           ...   \n",
       "2144682 2015-07-05 16:15:20.653    388556  view  306289           NaN   \n",
       "2149725 2015-07-05 23:50:53.434    388556  view  306289           NaN   \n",
       "2159258 2015-07-06 20:32:44.467    388556  view  306289           NaN   \n",
       "2170254 2015-07-06 20:28:15.581    388556  view  306289           NaN   \n",
       "2170406 2015-07-06 20:28:09.409    388556  view  306289           NaN   \n",
       "\n",
       "         train_split  \n",
       "6929               1  \n",
       "8599               1  \n",
       "8625               1  \n",
       "11133              1  \n",
       "15572              1  \n",
       "...              ...  \n",
       "2144682            1  \n",
       "2149725            1  \n",
       "2159258            1  \n",
       "2170254            1  \n",
       "2170406            1  \n",
       "\n",
       "[308 rows x 6 columns]"
      ]
     },
     "execution_count": 17,
     "metadata": {},
     "output_type": "execute_result"
    }
   ],
   "source": [
    "# most frequent user, item pair in train set\n",
    "item_id, user_id = np.unravel_index(item_user_train.argmax(), item_user_train.shape)\n",
    "item_id, user_id = get_keys(item_id, item_map), get_keys(user_id, user_map)\n",
    "df_limited.loc[(df_limited['visitorid'] == user_id) & (df_limited['itemid'] == item_id) & (df_limited['train_split'] == 1)]"
   ]
  },
  {
   "cell_type": "markdown",
   "metadata": {},
   "source": [
    "# Fit the ALS model\n",
    "\n",
    "<img src=\"./images/Tables.png\" alt=\"Tables\" style=\"width: 1000px;\"/>\n",
    "\n",
    "\n",
    "<img src=\"./images/ALS_Image_Test.png\" alt=\"MaskTrain\" style=\"width: 600px;\"/>\n",
    "\n",
    "\n",
    "Each (user, item) pair is represented initially through a Ranking matrix, which is used to create a Preference matrix and a Confidence matrix. These give information on whether a user likes an item or not and how confident we are of of the preference values, respectively.\n",
    "\n",
    "The classical latent factor model is induced by the SVD of the user-item observations matrix that associates each user with a user-factors vector and each item with an item-factors vector. The recommendation score between a user and a item is obtained by taking the inner product between the corresponding user-factors and the item-factors vector. The objective function is based on a least-squares with L2 regularization and this function is minimized using SGD.\n",
    "\n",
    "The ALS model for implicit feedback data also finds the user-factors and the item-factors vectors by factoring the Preference Matrix. The objective function has two main differences: it accounts for the varying confidence levels (using the Confidence matrix) and it accounts for all possible user/item pairs (note the summation indexes) rather than only those corresponding to observed data (if a user did not consumed a certain item it might be because the user dislikes the item or just because the user did not know about the item). The ALS model objective function is provided below:\n",
    "\n",
    "<img src=\"./images/equation.png\" alt=\"MaskTrain\" style=\"width: 600px;\"/>\n",
    "\n",
    "The huge number of terms (m users x n items) in the objective function prevents most direct optimization techniques such as SGD. An alternating-least-squares (ALS) optimization process (ALS) is used instead.\n",
    "\n"
   ]
  },
  {
   "cell_type": "code",
   "execution_count": 18,
   "metadata": {},
   "outputs": [
    {
     "name": "stderr",
     "output_type": "stream",
     "text": [
      "WARNING:root:OpenBLAS detected. Its highly recommend to set the environment variable 'export OPENBLAS_NUM_THREADS=1' to disable its internal multithreading\n"
     ]
    },
    {
     "data": {
      "application/vnd.jupyter.widget-view+json": {
       "model_id": "53bcdf27970441299e0218671f169763",
       "version_major": 2,
       "version_minor": 0
      },
      "text/plain": [
       "  0%|          | 0/30 [00:00<?, ?it/s]"
      ]
     },
     "metadata": {},
     "output_type": "display_data"
    }
   ],
   "source": [
    "# initialize a model\n",
    "alpha = 40  # as we observe more evidence for positive preference, our confidence in pui = 1 increases according to alpha (rate of increase)\n",
    "als_model = AlternatingLeastSquares(factors=200, regularization=0.01, iterations=30, random_state=0)\n",
    "\n",
    "# train the model on a sparse matrix of item/user/confidence weights\n",
    "# os.environ['MKL_NUM_THREADS'] = '1'\n",
    "# os.environ['OPENBLAS_NUM_THREADS'] = '1'\n",
    "# about the alpha hyperparameter: https://github.com/benfred/implicit/issues/199#issuecomment-490350326\n",
    "als_model.fit((item_user_train * alpha).astype('double'))"
   ]
  },
  {
   "cell_type": "markdown",
   "metadata": {},
   "source": [
    "# ALS model methods"
   ]
  },
  {
   "cell_type": "code",
   "execution_count": 19,
   "metadata": {
    "scrolled": true
   },
   "outputs": [
    {
     "data": {
      "text/plain": [
       "[(181142, 0.9557572),\n",
       " (15564, 0.29176143),\n",
       " (143180, 0.2770565),\n",
       " (3379, 0.25408393),\n",
       " (418619, 0.25371945),\n",
       " (182184, 0.2431688),\n",
       " (29447, 0.24041873),\n",
       " (364251, 0.23926802),\n",
       " (13101, 0.23266086),\n",
       " (178985, 0.22985822)]"
      ]
     },
     "execution_count": 19,
     "metadata": {},
     "output_type": "execute_result"
    }
   ],
   "source": [
    "# recommend items for a user. \n",
    "# the recommended items have the largest inner product with the user vector\n",
    "user_id = list(user_map.keys())[0]\n",
    "recommendations = als_model.recommend(user_map[user_id], user_item_train)\n",
    "list(map(lambda x: (get_keys(x[0], item_map), x[1]), recommendations))"
   ]
  },
  {
   "cell_type": "code",
   "execution_count": 20,
   "metadata": {},
   "outputs": [
    {
     "data": {
      "text/plain": [
       "[(248676, 1.0),\n",
       " (156271, 0.9159243),\n",
       " (322577, 0.9127971),\n",
       " (404264, 0.90587825),\n",
       " (317557, 0.8971296),\n",
       " (80921, 0.88508785),\n",
       " (116706, 0.8847025),\n",
       " (29519, 0.8847006),\n",
       " (289008, 0.88436794),\n",
       " (245481, 0.88309985)]"
      ]
     },
     "execution_count": 20,
     "metadata": {},
     "output_type": "execute_result"
    }
   ],
   "source": [
    "# find related items\n",
    "# the related items have the largest inner product with the item vector\n",
    "item_id = list(item_map.keys())[0]\n",
    "related = als_model.similar_items(item_map[item_id])\n",
    "list(map(lambda x: (get_keys(x[0], item_map), x[1]), related))"
   ]
  },
  {
   "cell_type": "code",
   "execution_count": 21,
   "metadata": {},
   "outputs": [
    {
     "name": "stdout",
     "output_type": "stream",
     "text": [
      "The score of the user/item pair is:  -0.03952744407948464\n",
      "The top N (itemid, score) contributions for this user/item pair are:\n",
      " [(181142, -0.03952744407948464)]\n"
     ]
    }
   ],
   "source": [
    "# show the top 10 items that explain the recommended item to the user\n",
    "# It is possible to write the LVM as a linear function between preferences and past actions.\n",
    "# We can then see what are the actions associated with the highest contributions to the given recommendation.\n",
    "score, contributions, user_weights = als_model.explain(user_map[user_id], \n",
    "                                                       user_item_train,\n",
    "                                                       item_map[item_id])\n",
    "print(\"The score of the user/item pair is: \", score)\n",
    "print(\"The top N (itemid, score) contributions for this user/item pair are:\\n\", list(map(lambda x: (get_keys(x[0], item_map), x[1]), contributions)))"
   ]
  },
  {
   "cell_type": "markdown",
   "metadata": {},
   "source": [
    "# Evaluation\n",
    "**Note**: We are measuring how well the model will rank the items in the test set for a user, given different items in the training set i.e. **the train and test set have the same users**. We are not making inference for new users that didn't appear in the training set. For new users in production, there is a `recalculate_user` method which can be used for generating recommendations without recalculating the whole model. Also, the `recommend(recalculate_user=True)` method allows the model to recommend for new users on the fly ([github issue](https://github.com/benfred/implicit/issues/152))."
   ]
  },
  {
   "cell_type": "code",
   "execution_count": 22,
   "metadata": {},
   "outputs": [],
   "source": [
    "# Baseline: Recommend the most popular items to every user\n",
    "class PopularRecommender():\n",
    "    \"\"\"Baseline Recommender that always suggests the most popular items to every user.\n",
    "    \"\"\"\n",
    "    def fit(self, item_users):\n",
    "        self.item_id_sort = np.argsort(np.squeeze(np.asarray(item_users.sum(axis=1).reshape(-1))))[::-1]\n",
    "    \n",
    "    def recommend(self, userid, user_items, N=10, filter_already_liked_items=None, filter_items=None, recalculate_user=None):\n",
    "        if filter_already_liked_items != None or filter_items != None or recalculate_user != None:\n",
    "            raise NotImplementedError(\"filter_already_liked_items, filter_items and recalculate_user aren't support yet\")\n",
    "        \n",
    "        return list(zip(self.item_id_sort[:N], range(1, N + 1)))"
   ]
  },
  {
   "cell_type": "code",
   "execution_count": 23,
   "metadata": {},
   "outputs": [],
   "source": [
    "# Fitting PopularRecommender model\n",
    "pop_model = PopularRecommender()\n",
    "pop_model.fit(item_user_train)"
   ]
  },
  {
   "cell_type": "code",
   "execution_count": 24,
   "metadata": {
    "scrolled": true
   },
   "outputs": [
    {
     "data": {
      "application/vnd.jupyter.widget-view+json": {
       "model_id": "09403865df404d69a8229809ea9df2ae",
       "version_major": 2,
       "version_minor": 0
      },
      "text/plain": [
       "  0%|          | 0/31735 [00:00<?, ?it/s]"
      ]
     },
     "metadata": {},
     "output_type": "display_data"
    },
    {
     "data": {
      "application/vnd.jupyter.widget-view+json": {
       "model_id": "9d22125293bc49b086f12efe85dca0f3",
       "version_major": 2,
       "version_minor": 0
      },
      "text/plain": [
       "  0%|          | 0/31735 [00:00<?, ?it/s]"
      ]
     },
     "metadata": {},
     "output_type": "display_data"
    },
    {
     "data": {
      "text/html": [
       "<div>\n",
       "<style scoped>\n",
       "    .dataframe tbody tr th:only-of-type {\n",
       "        vertical-align: middle;\n",
       "    }\n",
       "\n",
       "    .dataframe tbody tr th {\n",
       "        vertical-align: top;\n",
       "    }\n",
       "\n",
       "    .dataframe thead th {\n",
       "        text-align: right;\n",
       "    }\n",
       "</style>\n",
       "<table border=\"1\" class=\"dataframe\">\n",
       "  <thead>\n",
       "    <tr style=\"text-align: right;\">\n",
       "      <th></th>\n",
       "      <th>pop_model</th>\n",
       "      <th>als_model</th>\n",
       "    </tr>\n",
       "  </thead>\n",
       "  <tbody>\n",
       "    <tr>\n",
       "      <th>precision</th>\n",
       "      <td>0.011877</td>\n",
       "      <td>0.015944</td>\n",
       "    </tr>\n",
       "    <tr>\n",
       "      <th>map</th>\n",
       "      <td>0.005428</td>\n",
       "      <td>0.007908</td>\n",
       "    </tr>\n",
       "    <tr>\n",
       "      <th>ndcg</th>\n",
       "      <td>0.009695</td>\n",
       "      <td>0.013737</td>\n",
       "    </tr>\n",
       "    <tr>\n",
       "      <th>auc</th>\n",
       "      <td>0.504633</td>\n",
       "      <td>0.508189</td>\n",
       "    </tr>\n",
       "  </tbody>\n",
       "</table>\n",
       "</div>"
      ],
      "text/plain": [
       "           pop_model  als_model\n",
       "precision   0.011877   0.015944\n",
       "map         0.005428   0.007908\n",
       "ndcg        0.009695   0.013737\n",
       "auc         0.504633   0.508189"
      ]
     },
     "execution_count": 24,
     "metadata": {},
     "output_type": "execute_result"
    }
   ],
   "source": [
    "# Evaluate models. \n",
    "# Precision at K, Mean Average Precision at K, Normalized Discounted Cumulative Gain at K, AUC at K\n",
    "eval_models = {'pop_model': pop_model, 'als_model': als_model}\n",
    "eval_table = {}\n",
    "for k, v in eval_models.items():\n",
    "    eval_table[k] = ranking_metrics_at_k(v, user_item_train, user_item_test, K=10, show_progress=True, num_threads=0)\n",
    "eval_table = pd.DataFrame(eval_table)\n",
    "eval_table"
   ]
  },
  {
   "cell_type": "code",
   "execution_count": null,
   "metadata": {},
   "outputs": [],
   "source": []
  }
 ],
 "metadata": {
  "kernelspec": {
   "display_name": "Python 3",
   "language": "python",
   "name": "python3"
  },
  "language_info": {
   "codemirror_mode": {
    "name": "ipython",
    "version": 3
   },
   "file_extension": ".py",
   "mimetype": "text/x-python",
   "name": "python",
   "nbconvert_exporter": "python",
   "pygments_lexer": "ipython3",
   "version": "3.8.5"
  }
 },
 "nbformat": 4,
 "nbformat_minor": 5
}
